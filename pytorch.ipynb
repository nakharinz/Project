{
 "cells": [
  {
   "cell_type": "code",
   "id": "e50fdf118ec2e40b",
   "metadata": {
    "ExecuteTime": {
     "end_time": "2024-05-25T05:42:20.499889Z",
     "start_time": "2024-05-25T05:42:16.925892Z"
    }
   },
   "source": [
    "import torch\n",
    "torch.__version__"
   ],
   "execution_count": 3,
   "outputs": []
  },
  {
   "cell_type": "code",
   "id": "2ec6e4669082ba4",
   "metadata": {
    "ExecuteTime": {
     "end_time": "2024-05-25T05:42:20.509441Z",
     "start_time": "2024-05-25T05:42:20.502904Z"
    }
   },
   "source": [
    "device = 'cuda' if torch.cuda.is_available() else 'cpu'"
   ],
   "execution_count": 4,
   "outputs": []
  },
  {
   "cell_type": "code",
   "id": "6d4d2ca8914c9e4b",
   "metadata": {
    "ExecuteTime": {
     "end_time": "2024-05-25T05:42:20.521071Z",
     "start_time": "2024-05-25T05:42:20.512428Z"
    }
   },
   "source": [
    "x = torch.rand(5, 3).to(device)"
   ],
   "execution_count": 5,
   "outputs": []
  },
  {
   "cell_type": "code",
   "id": "eead2703e2d31727",
   "metadata": {
    "ExecuteTime": {
     "end_time": "2024-05-25T05:42:20.537633Z",
     "start_time": "2024-05-25T05:42:20.526082Z"
    }
   },
   "source": [
    "x"
   ],
   "execution_count": 6,
   "outputs": []
  },
  {
   "cell_type": "markdown",
   "id": "df87b33d96829eea",
   "metadata": {},
   "source": [
    "# K-Means"
   ]
  },
  {
   "cell_type": "code",
   "id": "3da87f52095385c1",
   "metadata": {
    "ExecuteTime": {
     "end_time": "2024-05-25T05:42:21.217812Z",
     "start_time": "2024-05-25T05:42:20.540645Z"
    }
   },
   "source": [
    "import matplotlib.pyplot as plt"
   ],
   "execution_count": 7,
   "outputs": []
  },
  {
   "cell_type": "code",
   "id": "7725c65406bb2966",
   "metadata": {
    "ExecuteTime": {
     "end_time": "2024-05-25T05:42:21.230828Z",
     "start_time": "2024-05-25T05:42:21.219823Z"
    }
   },
   "source": [
    "N = 100\n",
    "x1 = torch.randn(N, 2)\n",
    "x2 = torch.randn(N, 2) + torch.Tensor([3, 3])\n",
    "x3 = torch.randn(N, 2) + torch.Tensor([-3, 3])"
   ],
   "execution_count": 8,
   "outputs": []
  },
  {
   "cell_type": "code",
   "id": "722661e33f6607e3",
   "metadata": {
    "ExecuteTime": {
     "end_time": "2024-05-25T05:42:21.244646Z",
     "start_time": "2024-05-25T05:42:21.233841Z"
    }
   },
   "source": [
    "X = torch.cat([x1, x2, x3], dim=0)\n",
    "print(X.shape)"
   ],
   "execution_count": 9,
   "outputs": []
  },
  {
   "cell_type": "code",
   "id": "417618b8a69ad095",
   "metadata": {
    "jupyter": {
     "is_executing": true
    },
    "ExecuteTime": {
     "start_time": "2024-05-25T05:42:21.247658Z"
    }
   },
   "source": [
    "for i in range(1):\n",
    "    plt.scatter(X[i*N:(i+1)*N, 0], X[i*N:(i+1)*N, 1])\n",
    "plt.show()"
   ],
   "execution_count": null,
   "outputs": []
  },
  {
   "cell_type": "code",
   "id": "82126519ae745d21",
   "metadata": {
    "jupyter": {
     "is_executing": true
    }
   },
   "source": [
    "K = 3\n",
    "centroids = X[torch.randperm(len(X))[:K]]\n",
    "while True:\n",
    "    D = torch.cdist(X, centroids)\n",
    "    clusters = torch.argmin(D, dim=1)\n",
    "    for i in range(3):\n",
    "        plt.scatter(X[i*N:(i+1)*N, 0], X[i*N:(i+1)*N, 1])\n",
    "    old_centroids = centroids.clone()\n",
    "    for k in range(K):\n",
    "        plt.scatter(centroids[k, 0], centroids[k, 1], marker='x')\n",
    "        centroids[k] = X[clusters == k].mean(dim=0)\n",
    "    change = torch.sum((centroids - old_centroids) ** 2)\n",
    "    if change < 0.1:\n",
    "        break\n",
    "    plt.show()"
   ],
   "execution_count": null,
   "outputs": []
  },
  {
   "cell_type": "code",
   "id": "53ceb59e45191567",
   "metadata": {
    "jupyter": {
     "is_executing": true
    }
   },
   "source": [
    "import time\n",
    "device = 'cuda'\n",
    "\n",
    "N = 100000\n",
    "x1 = torch.randn(N, 2)\n",
    "x2 = torch.randn(N, 2) + torch.Tensor([3, 3])\n",
    "x3 = torch.randn(N, 2) + torch.Tensor([-3, 3])\n",
    "X = torch.cat([x1, x2, x3], dim=0).to(device)\n",
    "\n",
    "t1 = time.time()\n",
    "K = 3\n",
    "centroids = X[torch.randperm(len(X))[:K]]\n",
    "for _ in range(100):\n",
    "    D = torch.cdist(X, centroids)\n",
    "    clusters = torch.argmin(D, dim=1)\n",
    "    for k in range(K):\n",
    "        centroids[k] = X[clusters == k].mean(dim=0)\n",
    "print(time.time() - t1)"
   ],
   "execution_count": null,
   "outputs": []
  },
  {
   "cell_type": "markdown",
   "id": "665e1d1a31fcd578",
   "metadata": {},
   "source": [
    "# Auto differentiation"
   ]
  },
  {
   "cell_type": "code",
   "id": "1e5c7e5a52542ce6",
   "metadata": {
    "jupyter": {
     "is_executing": true
    }
   },
   "source": [
    "x = torch.tensor(3., requires_grad=True)\n",
    "y = x**2 + 2*x + 1 \n",
    "# y' = 2x + 2\n",
    "y.backward()"
   ],
   "execution_count": null,
   "outputs": []
  },
  {
   "cell_type": "code",
   "id": "3166146d2351ce23",
   "metadata": {
    "jupyter": {
     "is_executing": true
    }
   },
   "source": [
    "x.grad # 2(3) + 2"
   ],
   "execution_count": null,
   "outputs": []
  },
  {
   "cell_type": "markdown",
   "id": "ea5ad1d8094dff47",
   "metadata": {},
   "source": [
    "# Regression"
   ]
  },
  {
   "cell_type": "code",
   "id": "8edd69794556a53c",
   "metadata": {
    "jupyter": {
     "is_executing": true
    }
   },
   "source": [
    "N = 100\n",
    "x = torch.rand(N, 1)\n",
    "y = torch.sin(3 * x + 1) + 0.5 * torch.rand(N, 1)\n",
    "plt.scatter(x, y)"
   ],
   "execution_count": null,
   "outputs": []
  },
  {
   "cell_type": "code",
   "id": "227b2991ea8bd9bd",
   "metadata": {
    "jupyter": {
     "is_executing": true
    }
   },
   "source": [
    "ones = torch.ones(N, 1)\n",
    "X = torch.cat([x, ones], dim=1)"
   ],
   "execution_count": null,
   "outputs": []
  },
  {
   "cell_type": "code",
   "id": "6cf9337b3c2f2fb1",
   "metadata": {
    "jupyter": {
     "is_executing": true
    }
   },
   "source": [
    "R = torch.inverse(X.T @ X) @ X.T @ y"
   ],
   "execution_count": null,
   "outputs": []
  },
  {
   "cell_type": "code",
   "id": "e13305e1e77863a8",
   "metadata": {
    "jupyter": {
     "is_executing": true
    }
   },
   "source": [
    "x_ = torch.linspace(0, 1, 100).reshape(-1, 1)"
   ],
   "execution_count": null,
   "outputs": []
  },
  {
   "cell_type": "code",
   "id": "a8c85031aa752678",
   "metadata": {
    "jupyter": {
     "is_executing": true
    }
   },
   "source": [
    "y_ = x_ * R[0] + R[1]"
   ],
   "execution_count": null,
   "outputs": []
  },
  {
   "cell_type": "code",
   "id": "2a7804e1e0a6ad01",
   "metadata": {
    "jupyter": {
     "is_executing": true
    }
   },
   "source": [
    "plt.scatter(x, y)\n",
    "plt.scatter(x_, y_, color='r')\n",
    "plt.show()"
   ],
   "execution_count": null,
   "outputs": []
  },
  {
   "cell_type": "markdown",
   "id": "d315078521de2f9b",
   "metadata": {},
   "source": [
    "nonlinear"
   ]
  },
  {
   "cell_type": "code",
   "id": "77f555713a9f006",
   "metadata": {
    "jupyter": {
     "is_executing": true
    }
   },
   "source": [
    "ones = torch.ones(N, 1)\n",
    "X = torch.cat([x**2, x, ones], dim=1)"
   ],
   "execution_count": null,
   "outputs": []
  },
  {
   "cell_type": "code",
   "id": "e9b38034a6884f73",
   "metadata": {
    "jupyter": {
     "is_executing": true
    }
   },
   "source": [
    "R = torch.inverse(X.T @ X) @ X.T @ y"
   ],
   "execution_count": null,
   "outputs": []
  },
  {
   "cell_type": "code",
   "id": "4a3103cd28cab953",
   "metadata": {
    "jupyter": {
     "is_executing": true
    }
   },
   "source": [
    "y_ = x_**2 * R[0] + x_ * R[1] + R[2]"
   ],
   "execution_count": null,
   "outputs": []
  },
  {
   "cell_type": "code",
   "id": "715bd90e2b22fba5",
   "metadata": {
    "jupyter": {
     "is_executing": true
    }
   },
   "source": [
    "plt.scatter(x, y)\n",
    "plt.scatter(x_, y_, color='r')\n",
    "plt.show()"
   ],
   "execution_count": null,
   "outputs": []
  },
  {
   "cell_type": "code",
   "id": "efc9e188c66e967",
   "metadata": {
    "jupyter": {
     "is_executing": true
    }
   },
   "source": [
    "device = 'cpu'\n",
    "\n",
    "N = 100000000\n",
    "x = torch.rand(N, 1).to(device)\n",
    "y = torch.sin(3 * x + 1) + 0.5 * torch.rand(N, 1).to(device)\n",
    "\n",
    "t1 = time.time()\n",
    "degree = 1\n",
    "ones = torch.ones(N, 1).to(device)\n",
    "X = torch.cat([x, ones], dim=1)\n",
    "for i in range(2, degree + 1):\n",
    "    X = torch.cat([x**i, X], dim=1)\n",
    "R = torch.inverse(X.T @ X) @ X.T @ y\n",
    "print(time.time() - t1)"
   ],
   "execution_count": null,
   "outputs": []
  },
  {
   "cell_type": "markdown",
   "id": "2203c236fc396e6b",
   "metadata": {},
   "source": [
    "# MLP"
   ]
  },
  {
   "cell_type": "code",
   "id": "f7e25fcc705cad8",
   "metadata": {
    "jupyter": {
     "is_executing": true
    }
   },
   "source": [
    "from torch import nn"
   ],
   "execution_count": null,
   "outputs": []
  },
  {
   "cell_type": "code",
   "id": "a69b8497563b6694",
   "metadata": {
    "jupyter": {
     "is_executing": true
    }
   },
   "source": [
    "# [1] 32 16 [1]\n",
    "class Regressor(nn.Module):\n",
    "    def __init__(self):\n",
    "        super().__init__()\n",
    "        self.fc1 = nn.Linear(1, 32)\n",
    "        self.fc2 = nn.Linear(32, 16)\n",
    "        self.fc3 = nn.Linear(16, 1)\n",
    "    def forward(self, x):\n",
    "        x = torch.sigmoid(self.fc1(x))\n",
    "        x = torch.sigmoid(self.fc2(x))\n",
    "        return self.fc3(x)"
   ],
   "execution_count": null,
   "outputs": []
  },
  {
   "cell_type": "code",
   "id": "bebebcfd80cc28fb",
   "metadata": {
    "jupyter": {
     "is_executing": true
    }
   },
   "source": [
    "(1*32+32) + (32*16+16) + (16*1+1)"
   ],
   "execution_count": null,
   "outputs": []
  },
  {
   "cell_type": "code",
   "id": "2476059a2d85c276",
   "metadata": {
    "jupyter": {
     "is_executing": true
    }
   },
   "source": [
    "model = Regressor()"
   ],
   "execution_count": null,
   "outputs": []
  },
  {
   "cell_type": "code",
   "id": "6d596bb872ef5e3",
   "metadata": {
    "jupyter": {
     "is_executing": true
    }
   },
   "source": [
    "gen = iter(model.parameters())"
   ],
   "execution_count": null,
   "outputs": []
  },
  {
   "cell_type": "code",
   "id": "b8610e63c4074c91",
   "metadata": {
    "jupyter": {
     "is_executing": true
    }
   },
   "source": [
    "next(gen).shape"
   ],
   "execution_count": null,
   "outputs": []
  },
  {
   "cell_type": "code",
   "id": "62fed73ddee762e3",
   "metadata": {
    "jupyter": {
     "is_executing": true
    }
   },
   "source": [
    "N = 1000\n",
    "x = torch.rand(N, 1).to(device)\n",
    "y = torch.sin(3 * x + 1) + 0.5 * torch.rand(N, 1).to(device)"
   ],
   "execution_count": null,
   "outputs": []
  },
  {
   "cell_type": "code",
   "id": "71fc4ce868c29a26",
   "metadata": {
    "jupyter": {
     "is_executing": true
    }
   },
   "source": [
    "device = 'cuda' \n",
    "\n",
    "model = model.to(device)\n",
    "\n",
    "criterion = nn.MSELoss()\n",
    "optimizer = torch.optim.SGD(model.parameters(), lr=0.1)\n",
    "\n",
    "model.train()\n",
    "for epoch in range(5000):\n",
    "    y_ = model(x.to(device))\n",
    "    loss = criterion(y_, y.to(device))\n",
    "    \n",
    "    optimizer.zero_grad()\n",
    "    loss.backward()\n",
    "    optimizer.step()\n",
    "    if epoch % 100 == 0:\n",
    "        print(f'{epoch}: {loss.item()}')"
   ],
   "execution_count": null,
   "outputs": []
  },
  {
   "cell_type": "code",
   "id": "159cfd4a048dd87",
   "metadata": {
    "jupyter": {
     "is_executing": true
    }
   },
   "source": [
    "x_ = torch.linspace(0, 1, 100).reshape(-1, 1)\n",
    "model.eval()\n",
    "with torch.no_grad():\n",
    "    y_ = model(x_.to(device))\n",
    "plt.scatter(x, y)\n",
    "plt.scatter(x_, y_.cpu(), color='r')\n",
    "plt.show()"
   ],
   "execution_count": null,
   "outputs": []
  },
  {
   "cell_type": "markdown",
   "id": "eff0182fc54b2c37",
   "metadata": {},
   "source": [
    "# Classification"
   ]
  },
  {
   "cell_type": "code",
   "id": "6b926bf4bdb01744",
   "metadata": {
    "jupyter": {
     "is_executing": true
    }
   },
   "source": [
    "N"
   ],
   "execution_count": null,
   "outputs": []
  },
  {
   "cell_type": "code",
   "id": "1015b382e0345b4e",
   "metadata": {
    "jupyter": {
     "is_executing": true
    }
   },
   "source": [
    "X.shape"
   ],
   "execution_count": null,
   "outputs": []
  },
  {
   "cell_type": "code",
   "id": "5bfb56eccde99e16",
   "metadata": {
    "jupyter": {
     "is_executing": true
    }
   },
   "source": [
    "Y = torch.cat([torch.zeros(N), torch.ones(N), torch.ones(N) * 2]).long()"
   ],
   "execution_count": null,
   "outputs": []
  },
  {
   "cell_type": "code",
   "id": "3e2ddbae6acc1904",
   "metadata": {
    "jupyter": {
     "is_executing": true
    }
   },
   "source": [
    "Y"
   ],
   "execution_count": null,
   "outputs": []
  },
  {
   "cell_type": "code",
   "id": "fc110dece76492f6",
   "metadata": {
    "jupyter": {
     "is_executing": true
    }
   },
   "source": [
    "X.shape[1]"
   ],
   "execution_count": null,
   "outputs": []
  },
  {
   "cell_type": "code",
   "id": "48d64afbd1217c79",
   "metadata": {
    "jupyter": {
     "is_executing": true
    }
   },
   "source": [
    "len(Y.unique())"
   ],
   "execution_count": null,
   "outputs": []
  },
  {
   "cell_type": "code",
   "id": "943124dcb7812b70",
   "metadata": {},
   "source": [
    "# [2] 32 16 [3]\n",
    "class Classifier(nn.Module):\n",
    "    def __init__(self):\n",
    "        super().__init__()\n",
    "        self.fc1 = nn.Linear(2, 32)\n",
    "        self.fc2 = nn.Linear(32, 16)\n",
    "        self.fc3 = nn.Linear(16, 3)\n",
    "    def forward(self, x):\n",
    "        x = torch.sigmoid(self.fc1(x))\n",
    "        x = torch.sigmoid(self.fc2(x))\n",
    "        return torch.sigmoid(self.fc3(x))"
   ],
   "execution_count": 1,
   "outputs": []
  },
  {
   "cell_type": "code",
   "id": "b8923d99a94fba40",
   "metadata": {
    "ExecuteTime": {
     "end_time": "2024-05-25T05:42:29.017515Z",
     "start_time": "2024-05-25T05:42:29.016516Z"
    }
   },
   "source": [
    "model = Classifier()"
   ],
   "execution_count": null,
   "outputs": []
  },
  {
   "cell_type": "code",
   "id": "3e11357108aefcaa",
   "metadata": {
    "ExecuteTime": {
     "end_time": "2024-05-25T05:42:29.022517Z",
     "start_time": "2024-05-25T05:42:29.021517Z"
    }
   },
   "source": [
    "device = 'cuda' if torch.cuda.is_available() else 'cpu'\n",
    "\n",
    "model = model.to(device)\n",
    "\n",
    "criterion = nn.CrossEntropyLoss()\n",
    "optimizer = torch.optim.SGD(model.parameters(), lr=0.1)\n",
    "\n",
    "model.train()\n",
    "for epoch in range(5000):\n",
    "    y_ = model(X.to(device))\n",
    "    loss = criterion(y_, Y.to(device))\n",
    "    \n",
    "    optimizer.zero_grad()\n",
    "    loss.backward()\n",
    "    optimizer.step()\n",
    "    if epoch % 100 == 0:\n",
    "        print(f'{epoch}: {loss.item()}')"
   ],
   "execution_count": null,
   "outputs": []
  },
  {
   "cell_type": "code",
   "id": "be3bc0471fa412bf",
   "metadata": {
    "ExecuteTime": {
     "end_time": "2024-05-25T05:42:29.025514Z",
     "start_time": "2024-05-25T05:42:29.024515Z"
    }
   },
   "source": [
    "model.eval()\n",
    "with torch.no_grad():\n",
    "    y_ = model(X.to(device))\n",
    "acc = torch.sum(Y == y_.argmax(dim=1).cpu()) / len(Y)\n",
    "print(acc.item())"
   ],
   "execution_count": null,
   "outputs": []
  },
  {
   "cell_type": "code",
   "id": "22e03210e086c272",
   "metadata": {},
   "source": [
    "from sklearn.datasets import load_iris\n",
    "import numpy as np\n",
    "df = load_iris(as_frame=True)"
   ],
   "execution_count": null,
   "outputs": []
  },
  {
   "cell_type": "code",
   "id": "5daa8f02316fd4db",
   "metadata": {},
   "source": [
    "itrain = np.r_[0:25, 50:75, 100:125]\n",
    "itest = np.r_[25:50, 75:100, 125:150]\n",
    "xtrain = df['data'].iloc[itrain].values\n",
    "xtest = df['data'].iloc[itest].values\n",
    "ytrain = df['target'].iloc[itrain].values\n",
    "ytest = df['target'].iloc[itest].values"
   ],
   "execution_count": null,
   "outputs": []
  },
  {
   "cell_type": "code",
   "id": "29636fd574cb64a1",
   "metadata": {},
   "source": [
    "xtrain.shape"
   ],
   "execution_count": null,
   "outputs": []
  },
  {
   "cell_type": "code",
   "id": "fccbd2c04fb315cd",
   "metadata": {},
   "source": [
    "len(np.unique(ytrain))"
   ],
   "execution_count": null,
   "outputs": []
  },
  {
   "cell_type": "code",
   "id": "a5adbcaeb19cb667",
   "metadata": {},
   "source": [
    "# [4] 128 [3]\n",
    "class Classifier(nn.Module):\n",
    "    def __init__(self):\n",
    "        super().__init__()\n",
    "        self.fc1 = nn.Linear(4, 128)\n",
    "        self.fc2 = nn.Linear(128, 3)\n",
    "    def forward(self, x):\n",
    "        x = torch.relu(self.fc1(x))\n",
    "        return torch.softmax(self.fc2(x), dim=1)"
   ],
   "execution_count": null,
   "outputs": []
  },
  {
   "cell_type": "code",
   "id": "80fb5ed5e7016d14",
   "metadata": {},
   "source": [
    "xtrain_ = torch.tensor(xtrain, dtype=torch.float32)"
   ],
   "execution_count": null,
   "outputs": []
  },
  {
   "cell_type": "code",
   "id": "e6bbfa4619e44e38",
   "metadata": {},
   "source": [
    "xtest_ = torch.tensor(xtest, dtype=torch.float32)"
   ],
   "execution_count": null,
   "outputs": []
  },
  {
   "cell_type": "code",
   "id": "bf6cb7b1d5824bf",
   "metadata": {},
   "source": [
    "ytrain_ = torch.tensor(ytrain, dtype=torch.long)"
   ],
   "execution_count": null,
   "outputs": []
  },
  {
   "cell_type": "code",
   "id": "549f38a314b1e7eb",
   "metadata": {},
   "source": [
    "ytest_ = torch.tensor(ytest, dtype=torch.long)"
   ],
   "execution_count": null,
   "outputs": []
  },
  {
   "cell_type": "code",
   "id": "b5237e5559bdc5f9",
   "metadata": {},
   "source": [
    "model = Classifier()"
   ],
   "execution_count": null,
   "outputs": []
  },
  {
   "cell_type": "code",
   "id": "3cf5c9abdc983aa6",
   "metadata": {},
   "source": [
    "device = 'cuda' if torch.cuda.is_available() else 'cpu'\n",
    "\n",
    "model = model.to(device)\n",
    "\n",
    "criterion = nn.CrossEntropyLoss()\n",
    "optimizer = torch.optim.Adam(model.parameters(), lr=0.01)\n",
    "\n",
    "model.train()\n",
    "for epoch in range(5000):\n",
    "    y_ = model(xtrain_.to(device))\n",
    "    loss = criterion(y_, ytrain_.to(device))\n",
    "    \n",
    "    optimizer.zero_grad()\n",
    "    loss.backward()\n",
    "    optimizer.step()\n",
    "    if epoch % 100 == 0:\n",
    "        print(f'{epoch}: {loss.item()}')"
   ],
   "execution_count": null,
   "outputs": []
  },
  {
   "cell_type": "code",
   "id": "6af959e9e00f8fb5",
   "metadata": {},
   "source": [
    "model.eval()\n",
    "with torch.no_grad():\n",
    "    y_ = model(xtest_.to(device))\n",
    "acc = torch.sum(ytest_ == y_.argmax(dim=1).cpu()) / len(y_)\n",
    "print(acc.item())"
   ],
   "execution_count": null,
   "outputs": []
  },
  {
   "cell_type": "code",
   "id": "6576525e3c7feda7",
   "metadata": {},
   "source": [
    "torch.save(model.state_dict(), 'model.pth')"
   ],
   "execution_count": null,
   "outputs": []
  },
  {
   "cell_type": "code",
   "id": "53f820a3e43767e",
   "metadata": {},
   "source": [
    "model.state_dict()"
   ],
   "execution_count": null,
   "outputs": []
  },
  {
   "cell_type": "code",
   "id": "71671c20b97dbcd7",
   "metadata": {},
   "source": [
    "df['data'].columns"
   ],
   "execution_count": null,
   "outputs": []
  },
  {
   "cell_type": "code",
   "id": "a1aa087817e8c39b",
   "metadata": {},
   "source": [
    "df['data'].max()"
   ],
   "execution_count": null,
   "outputs": []
  },
  {
   "cell_type": "code",
   "id": "75e00ccecb343b3",
   "metadata": {},
   "source": [
    "import seaborn as sns"
   ],
   "execution_count": null,
   "outputs": []
  },
  {
   "cell_type": "code",
   "id": "f9b5bdda94e74647",
   "metadata": {},
   "source": [
    "df = sns.load_dataset('titanic')\n",
    "df"
   ],
   "execution_count": null,
   "outputs": []
  },
  {
   "cell_type": "code",
   "id": "194ad14229a4b449",
   "metadata": {},
   "source": [
    "df.nunique()"
   ],
   "execution_count": null,
   "outputs": []
  },
  {
   "cell_type": "code",
   "id": "1d0dcabfb35e1124",
   "metadata": {},
   "source": [
    "df = df.drop(columns=['class', 'adult_male', 'deck', 'embark_town', 'alive', 'alone'])"
   ],
   "execution_count": null,
   "outputs": []
  },
  {
   "cell_type": "code",
   "id": "ddfee35826b69f65",
   "metadata": {},
   "source": [
    "import pandas as pd"
   ],
   "execution_count": null,
   "outputs": []
  },
  {
   "cell_type": "code",
   "id": "a24dae845277eabb",
   "metadata": {},
   "source": [
    "df = pd.get_dummies(df, dtype=float)"
   ],
   "execution_count": null,
   "outputs": []
  },
  {
   "cell_type": "code",
   "id": "94c3e862ae9df12e",
   "metadata": {},
   "source": [
    "df"
   ],
   "execution_count": null,
   "outputs": []
  },
  {
   "cell_type": "code",
   "id": "7c7b67e6112202e4",
   "metadata": {},
   "source": [
    "df = df.drop(columns=['sex_female'])"
   ],
   "execution_count": null,
   "outputs": []
  },
  {
   "cell_type": "code",
   "id": "5614ac8644a7da9f",
   "metadata": {},
   "source": [
    "df"
   ],
   "execution_count": null,
   "outputs": []
  },
  {
   "cell_type": "code",
   "id": "60187114f6ba5343",
   "metadata": {},
   "source": [
    "df = df.dropna()"
   ],
   "execution_count": null,
   "outputs": []
  },
  {
   "cell_type": "code",
   "id": "52ad5b32d3313b83",
   "metadata": {},
   "source": [
    "X = df.iloc[:, 1:]\n",
    "Y = df.iloc[:, 0]"
   ],
   "execution_count": null,
   "outputs": []
  },
  {
   "cell_type": "code",
   "id": "b379a45bb67e1b79",
   "metadata": {},
   "source": [
    "X"
   ],
   "execution_count": null,
   "outputs": []
  },
  {
   "cell_type": "code",
   "id": "30160e4e4f2c9bfe",
   "metadata": {},
   "source": [
    "Y"
   ],
   "execution_count": null,
   "outputs": []
  },
  {
   "cell_type": "code",
   "id": "d048cbe71f0d1c9",
   "metadata": {},
   "source": [
    "from sklearn.model_selection import train_test_split"
   ],
   "execution_count": null,
   "outputs": []
  },
  {
   "cell_type": "code",
   "id": "9e5e0ef1246af377",
   "metadata": {},
   "source": [
    "xtrain, xtest, ytrain, ytest = train_test_split(X, Y, test_size=0.2)"
   ],
   "execution_count": null,
   "outputs": []
  },
  {
   "cell_type": "code",
   "id": "397da49570e62331",
   "metadata": {},
   "source": [
    "xtrain = torch.tensor(xtrain.values, dtype=torch.float32)\n",
    "xtest = torch.tensor(xtest.values, dtype=torch.float32)\n",
    "ytrain = torch.tensor(ytrain.values, dtype=torch.float32)\n",
    "ytest = torch.tensor(ytest.values, dtype=torch.float32)\n",
    "ytrain = ytrain.reshape(-1, 1)\n",
    "ytest = ytest.reshape(-1, 1)"
   ],
   "execution_count": null,
   "outputs": []
  },
  {
   "cell_type": "code",
   "id": "af4d585a171897dc",
   "metadata": {},
   "source": [
    "xtrain.shape"
   ],
   "execution_count": null,
   "outputs": []
  },
  {
   "cell_type": "code",
   "id": "4584eed0c14c126",
   "metadata": {},
   "source": [
    "ytrain.unique()"
   ],
   "execution_count": null,
   "outputs": []
  },
  {
   "cell_type": "code",
   "id": "90889c8a883cd411",
   "metadata": {},
   "source": [
    "class Classifier(nn.Module):\n",
    "    def __init__(self):\n",
    "        super().__init__()\n",
    "        self.fc1 = nn.Linear(12, 128)\n",
    "        self.fc2 = nn.Linear(128, 1)\n",
    "    def forward(self, x):\n",
    "        x = torch.relu(self.fc1(x))\n",
    "        return torch.sigmoid(self.fc2(x))"
   ],
   "execution_count": null,
   "outputs": []
  },
  {
   "cell_type": "code",
   "id": "c52b0ddafcc3c8d5",
   "metadata": {},
   "source": [
    "model = Classifier()"
   ],
   "execution_count": null,
   "outputs": []
  },
  {
   "cell_type": "code",
   "id": "7b3e5be69e5e4f1a",
   "metadata": {},
   "source": [],
   "execution_count": null,
   "outputs": []
  },
  {
   "cell_type": "code",
   "id": "fb6ae05b3cd1d2b3",
   "metadata": {},
   "source": [
    "ytrain.shape"
   ],
   "execution_count": null,
   "outputs": []
  },
  {
   "cell_type": "code",
   "id": "ac6a8397c74fb70b",
   "metadata": {},
   "source": [
    "device = 'cuda' if torch.cuda.is_available() else 'cpu'\n",
    "\n",
    "model = model.to(device)\n",
    "\n",
    "criterion = nn.BCELoss()\n",
    "optimizer = torch.optim.Adam(model.parameters(), lr=0.01)\n",
    "\n",
    "model.train()\n",
    "for epoch in range(5000):\n",
    "    y_ = model(xtrain.to(device))\n",
    "    loss = criterion(y_, ytrain.to(device))\n",
    "    \n",
    "    optimizer.zero_grad()\n",
    "    loss.backward()\n",
    "    optimizer.step()\n",
    "    if epoch % 100 == 0:\n",
    "        print(f'{epoch}: {loss.item()}')"
   ],
   "execution_count": null,
   "outputs": []
  },
  {
   "cell_type": "code",
   "id": "a3af4cbaecf0c8ea",
   "metadata": {},
   "source": [
    "model.eval()\n",
    "with torch.no_grad():\n",
    "    y_ = model(xtest.to(device))\n",
    "acc = torch.sum(ytest == y_.round().cpu()) / len(y_)\n",
    "print(acc.item())"
   ],
   "execution_count": null,
   "outputs": []
  },
  {
   "cell_type": "code",
   "id": "f40c4ac125412daf",
   "metadata": {},
   "source": [],
   "execution_count": null,
   "outputs": []
  }
 ],
 "metadata": {
  "kernelspec": {
   "display_name": "Python 3 (ipykernel)",
   "language": "python",
   "name": "python3"
  },
  "language_info": {
   "codemirror_mode": {
    "name": "ipython",
    "version": 3
   },
   "file_extension": ".py",
   "mimetype": "text/x-python",
   "name": "python",
   "nbconvert_exporter": "python",
   "pygments_lexer": "ipython3",
   "version": "3.11.4"
  }
 },
 "nbformat": 4,
 "nbformat_minor": 5
}
