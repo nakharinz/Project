{
 "cells": [
  {
   "cell_type": "code",
   "execution_count": null,
   "id": "e1a23c5a",
   "metadata": {},
   "source": [
    "!pip install torch\n"
   ],
   "outputs": []
  },
  {
   "cell_type": "code",
   "execution_count": 1,
   "id": "initial_id",
   "metadata": {
    "ExecuteTime": {
     "end_time": "2024-05-18T02:51:00.914429Z",
     "start_time": "2024-05-18T02:50:58.639637Z"
    }
   },
   "source": [
    "import torch"
   ],
   "outputs": []
  },
  {
   "cell_type": "code",
   "execution_count": 2,
   "id": "be97bb0e5081b02",
   "metadata": {
    "ExecuteTime": {
     "end_time": "2024-05-18T02:51:00.930472Z",
     "start_time": "2024-05-18T02:51:00.916432Z"
    }
   },
   "source": [
    "torch.__version__"
   ],
   "outputs": []
  },
  {
   "cell_type": "code",
   "execution_count": 5,
   "id": "2ec6e4669082ba4",
   "metadata": {
    "ExecuteTime": {
     "end_time": "2024-05-18T03:05:06.836324Z",
     "start_time": "2024-05-18T03:05:06.827742Z"
    }
   },
   "source": [
    "device = 'cuda' if torch.cuda.is_available() else 'cpu'"
   ],
   "outputs": []
  },
  {
   "cell_type": "code",
   "execution_count": 6,
   "id": "6d4d2ca8914c9e4b",
   "metadata": {
    "ExecuteTime": {
     "end_time": "2024-05-18T03:05:10.673766Z",
     "start_time": "2024-05-18T03:05:10.661266Z"
    }
   },
   "source": [
    "x = torch.rand(5, 3).to(device)"
   ],
   "outputs": []
  },
  {
   "cell_type": "code",
   "execution_count": 7,
   "id": "eead2703e2d31727",
   "metadata": {
    "ExecuteTime": {
     "end_time": "2024-05-18T03:05:17.931581Z",
     "start_time": "2024-05-18T03:05:17.908063Z"
    }
   },
   "source": [
    "x"
   ],
   "outputs": []
  },
  {
   "cell_type": "markdown",
   "id": "df87b33d96829eea",
   "metadata": {},
   "source": [
    "# K-Means"
   ]
  },
  {
   "cell_type": "code",
   "execution_count": 8,
   "id": "3da87f52095385c1",
   "metadata": {
    "ExecuteTime": {
     "end_time": "2024-05-18T03:14:10.166432Z",
     "start_time": "2024-05-18T03:14:09.500647Z"
    }
   },
   "source": [
    "import matplotlib.pyplot as plt"
   ],
   "outputs": []
  },
  {
   "cell_type": "code",
   "execution_count": 178,
   "id": "7725c65406bb2966",
   "metadata": {
    "ExecuteTime": {
     "end_time": "2024-05-18T06:42:00.807482Z",
     "start_time": "2024-05-18T06:42:00.793359Z"
    }
   },
   "source": [
    "N = 100\n",
    "x1 = torch.randn(N, 2)\n",
    "x2 = torch.randn(N, 2) + torch.Tensor([3, 3])\n",
    "x3 = torch.randn(N, 2) + torch.Tensor([-3, 3])"
   ],
   "outputs": []
  },
  {
   "cell_type": "code",
   "execution_count": 179,
   "id": "722661e33f6607e3",
   "metadata": {
    "ExecuteTime": {
     "end_time": "2024-05-18T06:42:01.286329Z",
     "start_time": "2024-05-18T06:42:01.270768Z"
    }
   },
   "source": [
    "X = torch.cat([x1, x2, x3], dim=0)\n",
    "print(X.shape)"
   ],
   "outputs": []
  },
  {
   "cell_type": "code",
   "execution_count": 180,
   "id": "417618b8a69ad095",
   "metadata": {
    "ExecuteTime": {
     "end_time": "2024-05-18T06:42:05.251091Z",
     "start_time": "2024-05-18T06:42:05.096697Z"
    }
   },
   "source": [
    "for i in range(3):\n",
    "    plt.scatter(X[i*N:(i+1)*N, 0], X[i*N:(i+1)*N, 1])\n",
    "plt.show()"
   ],
   "outputs": []
  },
  {
   "cell_type": "code",
   "execution_count": 40,
   "id": "82126519ae745d21",
   "metadata": {
    "ExecuteTime": {
     "end_time": "2024-05-18T03:41:36.062263Z",
     "start_time": "2024-05-18T03:41:34.883192Z"
    }
   },
   "source": [
    "K = 3\n",
    "centroids = X[torch.randperm(len(X))[:K]]\n",
    "while True:\n",
    "    D = torch.cdist(X, centroids)\n",
    "    clusters = torch.argmin(D, dim=1)\n",
    "    for i in range(3):\n",
    "        plt.scatter(X[i*N:(i+1)*N, 0], X[i*N:(i+1)*N, 1])\n",
    "    old_centroids = centroids.clone()\n",
    "    for k in range(K):\n",
    "        plt.scatter(centroids[k, 0], centroids[k, 1], marker='x')\n",
    "        centroids[k] = X[clusters == k].mean(dim=0)\n",
    "    change = torch.sum((centroids - old_centroids) ** 2)\n",
    "    if change < 0.1:\n",
    "        break\n",
    "    plt.show()"
   ],
   "outputs": []
  },
  {
   "cell_type": "code",
   "execution_count": 59,
   "id": "53ceb59e45191567",
   "metadata": {
    "ExecuteTime": {
     "end_time": "2024-05-18T03:47:48.200063Z",
     "start_time": "2024-05-18T03:47:47.779541Z"
    }
   },
   "source": [
    "import time\n",
    "device = 'cuda'\n",
    "\n",
    "N = 100000\n",
    "x1 = torch.randn(N, 2)\n",
    "x2 = torch.randn(N, 2) + torch.Tensor([3, 3])\n",
    "x3 = torch.randn(N, 2) + torch.Tensor([-3, 3])\n",
    "X = torch.cat([x1, x2, x3], dim=0).to(device)\n",
    "\n",
    "t1 = time.time()\n",
    "K = 3\n",
    "centroids = X[torch.randperm(len(X))[:K]]\n",
    "for _ in range(100):\n",
    "    D = torch.cdist(X, centroids)\n",
    "    clusters = torch.argmin(D, dim=1)\n",
    "    for k in range(K):\n",
    "        centroids[k] = X[clusters == k].mean(dim=0)\n",
    "print(time.time() - t1)"
   ],
   "outputs": []
  },
  {
   "cell_type": "markdown",
   "id": "665e1d1a31fcd578",
   "metadata": {},
   "source": [
    "# Auto differentiation"
   ]
  },
  {
   "cell_type": "code",
   "execution_count": 62,
   "id": "1e5c7e5a52542ce6",
   "metadata": {
    "ExecuteTime": {
     "end_time": "2024-05-18T04:01:30.179004Z",
     "start_time": "2024-05-18T04:01:30.157015Z"
    }
   },
   "source": [
    "x = torch.tensor(3., requires_grad=True)\n",
    "y = x**2 + 2*x + 1 \n",
    "# y' = 2x + 2\n",
    "y.backward()"
   ],
   "outputs": []
  },
  {
   "cell_type": "code",
   "execution_count": 65,
   "id": "3166146d2351ce23",
   "metadata": {
    "ExecuteTime": {
     "end_time": "2024-05-18T04:01:46.381056Z",
     "start_time": "2024-05-18T04:01:46.361172Z"
    }
   },
   "source": [
    "x.grad # 2(3) + 2"
   ],
   "outputs": []
  },
  {
   "cell_type": "markdown",
   "id": "ea5ad1d8094dff47",
   "metadata": {},
   "source": [
    "# Regression"
   ]
  },
  {
   "cell_type": "code",
   "execution_count": 66,
   "id": "8edd69794556a53c",
   "metadata": {
    "ExecuteTime": {
     "end_time": "2024-05-18T04:06:12.430627Z",
     "start_time": "2024-05-18T04:06:12.279530Z"
    }
   },
   "source": [
    "N = 100\n",
    "x = torch.rand(N, 1)\n",
    "y = torch.sin(3 * x + 1) + 0.5 * torch.rand(N, 1)\n",
    "plt.scatter(x, y)"
   ],
   "outputs": []
  },
  {
   "cell_type": "code",
   "execution_count": 68,
   "id": "227b2991ea8bd9bd",
   "metadata": {
    "ExecuteTime": {
     "end_time": "2024-05-18T04:11:39.365043Z",
     "start_time": "2024-05-18T04:11:39.352645Z"
    }
   },
   "source": [
    "ones = torch.ones(N, 1)\n",
    "X = torch.cat([x, ones], dim=1)"
   ],
   "outputs": []
  },
  {
   "cell_type": "code",
   "execution_count": 74,
   "id": "6cf9337b3c2f2fb1",
   "metadata": {
    "ExecuteTime": {
     "end_time": "2024-05-18T04:13:12.867982Z",
     "start_time": "2024-05-18T04:13:12.858221Z"
    }
   },
   "source": [
    "R = torch.inverse(X.T @ X) @ X.T @ y"
   ],
   "outputs": []
  },
  {
   "cell_type": "code",
   "execution_count": 76,
   "id": "e13305e1e77863a8",
   "metadata": {
    "ExecuteTime": {
     "end_time": "2024-05-18T04:13:57.610104Z",
     "start_time": "2024-05-18T04:13:57.604105Z"
    }
   },
   "source": [
    "x_ = torch.linspace(0, 1, 100).reshape(-1, 1)"
   ],
   "outputs": []
  },
  {
   "cell_type": "code",
   "execution_count": 82,
   "id": "a8c85031aa752678",
   "metadata": {
    "ExecuteTime": {
     "end_time": "2024-05-18T04:15:03.330935Z",
     "start_time": "2024-05-18T04:15:03.314421Z"
    }
   },
   "source": [
    "y_ = x_ * R[0] + R[1]"
   ],
   "outputs": []
  },
  {
   "cell_type": "code",
   "execution_count": 83,
   "id": "2a7804e1e0a6ad01",
   "metadata": {
    "ExecuteTime": {
     "end_time": "2024-05-18T04:15:41.594463Z",
     "start_time": "2024-05-18T04:15:41.465377Z"
    }
   },
   "source": [
    "plt.scatter(x, y)\n",
    "plt.scatter(x_, y_, color='r')\n",
    "plt.show()"
   ],
   "outputs": []
  },
  {
   "cell_type": "markdown",
   "id": "d315078521de2f9b",
   "metadata": {},
   "source": [
    "nonlinear"
   ]
  },
  {
   "cell_type": "code",
   "execution_count": 84,
   "id": "77f555713a9f006",
   "metadata": {
    "ExecuteTime": {
     "end_time": "2024-05-18T04:17:30.783470Z",
     "start_time": "2024-05-18T04:17:30.777308Z"
    }
   },
   "source": [
    "ones = torch.ones(N, 1)\n",
    "X = torch.cat([x**2, x, ones], dim=1)"
   ],
   "outputs": []
  },
  {
   "cell_type": "code",
   "execution_count": 86,
   "id": "e9b38034a6884f73",
   "metadata": {
    "ExecuteTime": {
     "end_time": "2024-05-18T04:17:50.331152Z",
     "start_time": "2024-05-18T04:17:50.324571Z"
    }
   },
   "source": [
    "R = torch.inverse(X.T @ X) @ X.T @ y"
   ],
   "outputs": []
  },
  {
   "cell_type": "code",
   "execution_count": 88,
   "id": "4a3103cd28cab953",
   "metadata": {
    "ExecuteTime": {
     "end_time": "2024-05-18T04:18:45.053175Z",
     "start_time": "2024-05-18T04:18:45.038933Z"
    }
   },
   "source": [
    "y_ = x_**2 * R[0] + x_ * R[1] + R[2]"
   ],
   "outputs": []
  },
  {
   "cell_type": "code",
   "execution_count": 89,
   "id": "715bd90e2b22fba5",
   "metadata": {
    "ExecuteTime": {
     "end_time": "2024-05-18T04:18:51.743594Z",
     "start_time": "2024-05-18T04:18:51.593916Z"
    }
   },
   "source": [
    "plt.scatter(x, y)\n",
    "plt.scatter(x_, y_, color='r')\n",
    "plt.show()"
   ],
   "outputs": []
  },
  {
   "cell_type": "code",
   "execution_count": 134,
   "id": "efc9e188c66e967",
   "metadata": {
    "ExecuteTime": {
     "end_time": "2024-05-18T04:31:57.006587Z",
     "start_time": "2024-05-18T04:31:54.194587Z"
    }
   },
   "source": [
    "device = 'cpu'\n",
    "\n",
    "N = 100000000\n",
    "x = torch.rand(N, 1).to(device)\n",
    "y = torch.sin(3 * x + 1) + 0.5 * torch.rand(N, 1).to(device)\n",
    "\n",
    "t1 = time.time()\n",
    "degree = 1\n",
    "ones = torch.ones(N, 1).to(device)\n",
    "X = torch.cat([x, ones], dim=1)\n",
    "for i in range(2, degree + 1):\n",
    "    X = torch.cat([x**i, X], dim=1)\n",
    "R = torch.inverse(X.T @ X) @ X.T @ y\n",
    "print(time.time() - t1)"
   ],
   "outputs": []
  },
  {
   "cell_type": "markdown",
   "id": "2203c236fc396e6b",
   "metadata": {},
   "source": [
    "# MLP"
   ]
  },
  {
   "cell_type": "code",
   "execution_count": 135,
   "id": "f7e25fcc705cad8",
   "metadata": {
    "ExecuteTime": {
     "end_time": "2024-05-18T06:02:08.111550Z",
     "start_time": "2024-05-18T06:02:08.102037Z"
    }
   },
   "source": [
    "from torch import nn"
   ],
   "outputs": []
  },
  {
   "cell_type": "code",
   "execution_count": 136,
   "id": "a69b8497563b6694",
   "metadata": {
    "ExecuteTime": {
     "end_time": "2024-05-18T06:10:46.017552Z",
     "start_time": "2024-05-18T06:10:46.003578Z"
    }
   },
   "source": [
    "# [1] 32 16 [1]\n",
    "class Regressor(nn.Module):\n",
    "    def __init__(self):\n",
    "        super().__init__()\n",
    "        self.fc1 = nn.Linear(1, 32)\n",
    "        self.fc2 = nn.Linear(32, 16)\n",
    "        self.fc3 = nn.Linear(16, 1)\n",
    "    def forward(self, x):\n",
    "        x = torch.sigmoid(self.fc1(x))\n",
    "        x = torch.sigmoid(self.fc2(x))\n",
    "        return self.fc3(x)"
   ],
   "outputs": []
  },
  {
   "cell_type": "code",
   "execution_count": 140,
   "id": "bebebcfd80cc28fb",
   "metadata": {
    "ExecuteTime": {
     "end_time": "2024-05-18T06:14:07.567398Z",
     "start_time": "2024-05-18T06:14:07.556187Z"
    }
   },
   "source": [
    "(1*32+32) + (32*16+16) + (16*1+1)"
   ],
   "outputs": []
  },
  {
   "cell_type": "code",
   "execution_count": 141,
   "id": "2476059a2d85c276",
   "metadata": {
    "ExecuteTime": {
     "end_time": "2024-05-18T06:14:20.468478Z",
     "start_time": "2024-05-18T06:14:20.448450Z"
    }
   },
   "source": [
    "model = Regressor()"
   ],
   "outputs": []
  },
  {
   "cell_type": "code",
   "execution_count": 146,
   "id": "6d596bb872ef5e3",
   "metadata": {
    "ExecuteTime": {
     "end_time": "2024-05-18T06:15:23.443822Z",
     "start_time": "2024-05-18T06:15:23.436664Z"
    }
   },
   "source": [
    "gen = iter(model.parameters())"
   ],
   "outputs": []
  },
  {
   "cell_type": "code",
   "execution_count": 152,
   "id": "b8610e63c4074c91",
   "metadata": {
    "ExecuteTime": {
     "end_time": "2024-05-18T06:16:02.718003Z",
     "start_time": "2024-05-18T06:16:02.707772Z"
    }
   },
   "source": [
    "next(gen).shape"
   ],
   "outputs": []
  },
  {
   "cell_type": "code",
   "execution_count": 155,
   "id": "62fed73ddee762e3",
   "metadata": {
    "ExecuteTime": {
     "end_time": "2024-05-18T06:28:52.750879Z",
     "start_time": "2024-05-18T06:28:52.614791Z"
    }
   },
   "source": [
    "N = 1000\n",
    "x = torch.rand(N, 1).to(device)\n",
    "y = torch.sin(3 * x + 1) + 0.5 * torch.rand(N, 1).to(device)"
   ],
   "outputs": []
  },
  {
   "cell_type": "code",
   "execution_count": 174,
   "id": "71fc4ce868c29a26",
   "metadata": {
    "ExecuteTime": {
     "end_time": "2024-05-18T06:39:24.963513Z",
     "start_time": "2024-05-18T06:39:12.967417Z"
    }
   },
   "source": [
    "device = 'cuda' \n",
    "\n",
    "model = model.to(device)\n",
    "\n",
    "criterion = nn.MSELoss()\n",
    "optimizer = torch.optim.SGD(model.parameters(), lr=0.1)\n",
    "\n",
    "model.train()\n",
    "for epoch in range(5000):\n",
    "    y_ = model(x.to(device))\n",
    "    loss = criterion(y_, y.to(device))\n",
    "    \n",
    "    optimizer.zero_grad()\n",
    "    loss.backward()\n",
    "    optimizer.step()\n",
    "    if epoch % 100 == 0:\n",
    "        print(f'{epoch}: {loss.item()}')"
   ],
   "outputs": []
  },
  {
   "cell_type": "code",
   "execution_count": 177,
   "id": "159cfd4a048dd87",
   "metadata": {
    "ExecuteTime": {
     "end_time": "2024-05-18T06:40:42.269091Z",
     "start_time": "2024-05-18T06:40:42.115146Z"
    }
   },
   "source": [
    "x_ = torch.linspace(0, 1, 100).reshape(-1, 1)\n",
    "model.eval()\n",
    "with torch.no_grad():\n",
    "    y_ = model(x_.to(device))\n",
    "plt.scatter(x, y)\n",
    "plt.scatter(x_, y_.cpu(), color='r')\n",
    "plt.show()"
   ],
   "outputs": []
  },
  {
   "cell_type": "markdown",
   "id": "eff0182fc54b2c37",
   "metadata": {},
   "source": [
    "# Classification"
   ]
  },
  {
   "cell_type": "code",
   "execution_count": 182,
   "id": "6b926bf4bdb01744",
   "metadata": {
    "ExecuteTime": {
     "end_time": "2024-05-18T06:42:52.051321Z",
     "start_time": "2024-05-18T06:42:52.034277Z"
    }
   },
   "source": [
    "N"
   ],
   "outputs": []
  },
  {
   "cell_type": "code",
   "execution_count": 181,
   "id": "1015b382e0345b4e",
   "metadata": {
    "ExecuteTime": {
     "end_time": "2024-05-18T06:42:18.590726Z",
     "start_time": "2024-05-18T06:42:18.573786Z"
    }
   },
   "source": [
    "X.shape"
   ],
   "outputs": []
  },
  {
   "cell_type": "code",
   "execution_count": 183,
   "id": "5bfb56eccde99e16",
   "metadata": {
    "ExecuteTime": {
     "end_time": "2024-05-18T06:43:06.436975Z",
     "start_time": "2024-05-18T06:43:06.423940Z"
    }
   },
   "source": [
    "Y = torch.cat([torch.zeros(N), torch.ones(N), torch.ones(N) * 2]).long()"
   ],
   "outputs": []
  },
  {
   "cell_type": "code",
   "execution_count": 184,
   "id": "3e2ddbae6acc1904",
   "metadata": {
    "ExecuteTime": {
     "end_time": "2024-05-18T06:43:08.043258Z",
     "start_time": "2024-05-18T06:43:08.032764Z"
    }
   },
   "source": [
    "Y"
   ],
   "outputs": []
  },
  {
   "cell_type": "code",
   "execution_count": 185,
   "id": "fc110dece76492f6",
   "metadata": {
    "ExecuteTime": {
     "end_time": "2024-05-18T06:45:06.063783Z",
     "start_time": "2024-05-18T06:45:06.053272Z"
    }
   },
   "source": [
    "X.shape[1]"
   ],
   "outputs": []
  },
  {
   "cell_type": "code",
   "execution_count": 187,
   "id": "48d64afbd1217c79",
   "metadata": {
    "ExecuteTime": {
     "end_time": "2024-05-18T06:45:27.248695Z",
     "start_time": "2024-05-18T06:45:27.241177Z"
    }
   },
   "source": [
    "len(Y.unique())"
   ],
   "outputs": []
  },
  {
   "cell_type": "code",
   "execution_count": 188,
   "id": "943124dcb7812b70",
   "metadata": {
    "ExecuteTime": {
     "end_time": "2024-05-18T06:52:22.870589Z",
     "start_time": "2024-05-18T06:52:22.857533Z"
    }
   },
   "source": [
    "# [2] 32 16 [3]\n",
    "class Classifier(nn.Module):\n",
    "    def __init__(self):\n",
    "        super().__init__()\n",
    "        self.fc1 = nn.Linear(2, 32)\n",
    "        self.fc2 = nn.Linear(32, 16)\n",
    "        self.fc3 = nn.Linear(16, 3)\n",
    "    def forward(self, x):\n",
    "        x = torch.sigmoid(self.fc1(x))\n",
    "        x = torch.sigmoid(self.fc2(x))\n",
    "        return torch.sigmoid(self.fc3(x))"
   ],
   "outputs": []
  },
  {
   "cell_type": "code",
   "execution_count": 190,
   "id": "b8923d99a94fba40",
   "metadata": {
    "ExecuteTime": {
     "end_time": "2024-05-18T06:54:07.313677Z",
     "start_time": "2024-05-18T06:54:07.299214Z"
    }
   },
   "source": [
    "model = Classifier()"
   ],
   "outputs": []
  },
  {
   "cell_type": "code",
   "execution_count": 192,
   "id": "3e11357108aefcaa",
   "metadata": {
    "ExecuteTime": {
     "end_time": "2024-05-18T06:54:39.435921Z",
     "start_time": "2024-05-18T06:54:27.233812Z"
    }
   },
   "source": [
    "device = 'cuda' if torch.cuda.is_available() else 'cpu'\n",
    "\n",
    "model = model.to(device)\n",
    "\n",
    "criterion = nn.CrossEntropyLoss()\n",
    "optimizer = torch.optim.SGD(model.parameters(), lr=0.1)\n",
    "\n",
    "model.train()\n",
    "for epoch in range(5000):\n",
    "    y_ = model(X.to(device))\n",
    "    loss = criterion(y_, Y.to(device))\n",
    "    \n",
    "    optimizer.zero_grad()\n",
    "    loss.backward()\n",
    "    optimizer.step()\n",
    "    if epoch % 100 == 0:\n",
    "        print(f'{epoch}: {loss.item()}')"
   ],
   "outputs": []
  },
  {
   "cell_type": "code",
   "execution_count": 195,
   "id": "be3bc0471fa412bf",
   "metadata": {
    "ExecuteTime": {
     "end_time": "2024-05-18T06:56:44.077754Z",
     "start_time": "2024-05-18T06:56:44.057216Z"
    }
   },
   "source": [
    "model.eval()\n",
    "with torch.no_grad():\n",
    "    y_ = model(X.to(device))\n",
    "acc = torch.sum(Y == y_.argmax(dim=1).cpu()) / len(Y)\n",
    "print(acc.item())"
   ],
   "outputs": []
  },
  {
   "cell_type": "code",
   "execution_count": 200,
   "id": "22e03210e086c272",
   "metadata": {
    "ExecuteTime": {
     "end_time": "2024-05-18T06:58:56.458213Z",
     "start_time": "2024-05-18T06:58:56.438590Z"
    }
   },
   "source": [
    "from sklearn.datasets import load_iris\n",
    "import numpy as np\n",
    "df = load_iris(as_frame=True)"
   ],
   "outputs": []
  },
  {
   "cell_type": "code",
   "execution_count": 201,
   "id": "5daa8f02316fd4db",
   "metadata": {
    "ExecuteTime": {
     "end_time": "2024-05-18T06:59:52.936402Z",
     "start_time": "2024-05-18T06:59:52.922373Z"
    }
   },
   "source": [
    "itrain = np.r_[0:25, 50:75, 100:125]\n",
    "itest = np.r_[25:50, 75:100, 125:150]\n",
    "xtrain = df['data'].iloc[itrain].values\n",
    "xtest = df['data'].iloc[itest].values\n",
    "ytrain = df['target'].iloc[itrain].values\n",
    "ytest = df['target'].iloc[itest].values"
   ],
   "outputs": []
  },
  {
   "cell_type": "code",
   "execution_count": 203,
   "id": "29636fd574cb64a1",
   "metadata": {
    "ExecuteTime": {
     "end_time": "2024-05-18T07:04:09.517298Z",
     "start_time": "2024-05-18T07:04:09.500230Z"
    }
   },
   "source": [
    "xtrain.shape"
   ],
   "outputs": []
  },
  {
   "cell_type": "code",
   "execution_count": 204,
   "id": "fccbd2c04fb315cd",
   "metadata": {
    "ExecuteTime": {
     "end_time": "2024-05-18T07:14:33.129423Z",
     "start_time": "2024-05-18T07:14:33.117879Z"
    }
   },
   "source": [
    "len(np.unique(ytrain))"
   ],
   "outputs": []
  },
  {
   "cell_type": "code",
   "execution_count": 285,
   "id": "a5adbcaeb19cb667",
   "metadata": {
    "ExecuteTime": {
     "end_time": "2024-05-18T07:44:14.822704Z",
     "start_time": "2024-05-18T07:44:14.809695Z"
    }
   },
   "source": [
    "# [4] 128 [3]\n",
    "class Classifier(nn.Module):\n",
    "    def __init__(self):\n",
    "        super().__init__()\n",
    "        self.fc1 = nn.Linear(4, 128)\n",
    "        self.fc2 = nn.Linear(128, 3)\n",
    "    def forward(self, x):\n",
    "        x = torch.relu(self.fc1(x))\n",
    "        return torch.softmax(self.fc2(x), dim=1)"
   ],
   "outputs": []
  },
  {
   "cell_type": "code",
   "execution_count": 250,
   "id": "80fb5ed5e7016d14",
   "metadata": {
    "ExecuteTime": {
     "end_time": "2024-05-18T07:35:59.180658Z",
     "start_time": "2024-05-18T07:35:59.175372Z"
    }
   },
   "source": [
    "xtrain_ = torch.tensor(xtrain, dtype=torch.float32)"
   ],
   "outputs": []
  },
  {
   "cell_type": "code",
   "execution_count": 251,
   "id": "e6bbfa4619e44e38",
   "metadata": {
    "ExecuteTime": {
     "end_time": "2024-05-18T07:35:59.508073Z",
     "start_time": "2024-05-18T07:35:59.501553Z"
    }
   },
   "source": [
    "xtest_ = torch.tensor(xtest, dtype=torch.float32)"
   ],
   "outputs": []
  },
  {
   "cell_type": "code",
   "execution_count": 252,
   "id": "bf6cb7b1d5824bf",
   "metadata": {
    "ExecuteTime": {
     "end_time": "2024-05-18T07:35:59.805194Z",
     "start_time": "2024-05-18T07:35:59.793609Z"
    }
   },
   "source": [
    "ytrain_ = torch.tensor(ytrain, dtype=torch.long)"
   ],
   "outputs": []
  },
  {
   "cell_type": "code",
   "execution_count": 253,
   "id": "549f38a314b1e7eb",
   "metadata": {
    "ExecuteTime": {
     "end_time": "2024-05-18T07:36:00.131263Z",
     "start_time": "2024-05-18T07:36:00.117115Z"
    }
   },
   "source": [
    "ytest_ = torch.tensor(ytest, dtype=torch.long)"
   ],
   "outputs": []
  },
  {
   "cell_type": "code",
   "execution_count": 286,
   "id": "b5237e5559bdc5f9",
   "metadata": {
    "ExecuteTime": {
     "end_time": "2024-05-18T07:44:17.835857Z",
     "start_time": "2024-05-18T07:44:17.819809Z"
    }
   },
   "source": [
    "model = Classifier()"
   ],
   "outputs": []
  },
  {
   "cell_type": "code",
   "execution_count": 291,
   "id": "3cf5c9abdc983aa6",
   "metadata": {
    "ExecuteTime": {
     "end_time": "2024-05-18T07:45:50.949063Z",
     "start_time": "2024-05-18T07:45:39.152320Z"
    }
   },
   "source": [
    "device = 'cuda' if torch.cuda.is_available() else 'cpu'\n",
    "\n",
    "model = model.to(device)\n",
    "\n",
    "criterion = nn.CrossEntropyLoss()\n",
    "optimizer = torch.optim.Adam(model.parameters(), lr=0.01)\n",
    "\n",
    "model.train()\n",
    "for epoch in range(5000):\n",
    "    y_ = model(xtrain_.to(device))\n",
    "    loss = criterion(y_, ytrain_.to(device))\n",
    "    \n",
    "    optimizer.zero_grad()\n",
    "    loss.backward()\n",
    "    optimizer.step()\n",
    "    if epoch % 100 == 0:\n",
    "        print(f'{epoch}: {loss.item()}')"
   ],
   "outputs": []
  },
  {
   "cell_type": "code",
   "execution_count": 292,
   "id": "6af959e9e00f8fb5",
   "metadata": {
    "ExecuteTime": {
     "end_time": "2024-05-18T07:45:52.440165Z",
     "start_time": "2024-05-18T07:45:52.430631Z"
    }
   },
   "source": [
    "model.eval()\n",
    "with torch.no_grad():\n",
    "    y_ = model(xtest_.to(device))\n",
    "acc = torch.sum(ytest_ == y_.argmax(dim=1).cpu()) / len(y_)\n",
    "print(acc.item())"
   ],
   "outputs": []
  },
  {
   "cell_type": "code",
   "execution_count": 294,
   "id": "6576525e3c7feda7",
   "metadata": {
    "ExecuteTime": {
     "end_time": "2024-05-18T07:48:28.903825Z",
     "start_time": "2024-05-18T07:48:28.880201Z"
    }
   },
   "source": [
    "torch.save(model.state_dict(), 'model.pth')"
   ],
   "outputs": []
  },
  {
   "cell_type": "code",
   "execution_count": 293,
   "id": "53f820a3e43767e",
   "metadata": {
    "ExecuteTime": {
     "end_time": "2024-05-18T07:47:34.920942Z",
     "start_time": "2024-05-18T07:47:34.849734Z"
    }
   },
   "source": [
    "model.state_dict()"
   ],
   "outputs": []
  },
  {
   "cell_type": "code",
   "execution_count": 296,
   "id": "71671c20b97dbcd7",
   "metadata": {
    "ExecuteTime": {
     "end_time": "2024-05-18T07:53:07.694077Z",
     "start_time": "2024-05-18T07:53:07.679974Z"
    }
   },
   "source": [
    "df['data'].columns"
   ],
   "outputs": []
  },
  {
   "cell_type": "code",
   "execution_count": 297,
   "id": "a1aa087817e8c39b",
   "metadata": {
    "ExecuteTime": {
     "end_time": "2024-05-18T07:53:53.638443Z",
     "start_time": "2024-05-18T07:53:53.621904Z"
    }
   },
   "source": [
    "df['data'].max()"
   ],
   "outputs": []
  },
  {
   "cell_type": "code",
   "execution_count": 298,
   "id": "75e00ccecb343b3",
   "metadata": {
    "ExecuteTime": {
     "end_time": "2024-05-18T08:27:48.001766Z",
     "start_time": "2024-05-18T08:27:47.830989Z"
    }
   },
   "source": [
    "import seaborn as sns"
   ],
   "outputs": []
  },
  {
   "cell_type": "code",
   "execution_count": 299,
   "id": "f9b5bdda94e74647",
   "metadata": {
    "ExecuteTime": {
     "end_time": "2024-05-18T08:28:09.785300Z",
     "start_time": "2024-05-18T08:28:09.727821Z"
    }
   },
   "source": [
    "df = sns.load_dataset('titanic')\n",
    "df"
   ],
   "outputs": []
  },
  {
   "cell_type": "code",
   "execution_count": 300,
   "id": "194ad14229a4b449",
   "metadata": {
    "ExecuteTime": {
     "end_time": "2024-05-18T08:29:51.399764Z",
     "start_time": "2024-05-18T08:29:51.374733Z"
    }
   },
   "source": [
    "df.nunique()"
   ],
   "outputs": []
  },
  {
   "cell_type": "code",
   "execution_count": 306,
   "id": "1d0dcabfb35e1124",
   "metadata": {
    "ExecuteTime": {
     "end_time": "2024-05-18T08:42:44.996418Z",
     "start_time": "2024-05-18T08:42:44.989882Z"
    }
   },
   "source": [
    "df = df.drop(columns=['class', 'adult_male', 'deck', 'embark_town', 'alive', 'alone'])"
   ],
   "outputs": []
  },
  {
   "cell_type": "code",
   "execution_count": 302,
   "id": "ddfee35826b69f65",
   "metadata": {
    "ExecuteTime": {
     "end_time": "2024-05-18T08:32:22.769788Z",
     "start_time": "2024-05-18T08:32:22.756236Z"
    }
   },
   "source": [
    "import pandas as pd"
   ],
   "outputs": []
  },
  {
   "cell_type": "code",
   "execution_count": 307,
   "id": "a24dae845277eabb",
   "metadata": {
    "ExecuteTime": {
     "end_time": "2024-05-18T08:42:55.826332Z",
     "start_time": "2024-05-18T08:42:55.786362Z"
    }
   },
   "source": [
    "df = pd.get_dummies(df, dtype=float)"
   ],
   "outputs": []
  },
  {
   "cell_type": "code",
   "execution_count": 308,
   "id": "94c3e862ae9df12e",
   "metadata": {
    "ExecuteTime": {
     "end_time": "2024-05-18T08:42:59.477200Z",
     "start_time": "2024-05-18T08:42:59.455184Z"
    }
   },
   "source": [
    "df"
   ],
   "outputs": []
  },
  {
   "cell_type": "code",
   "execution_count": 312,
   "id": "7c7b67e6112202e4",
   "metadata": {
    "ExecuteTime": {
     "end_time": "2024-05-18T08:44:48.497658Z",
     "start_time": "2024-05-18T08:44:48.485148Z"
    }
   },
   "source": [
    "df = df.drop(columns=['sex_female'])"
   ],
   "outputs": []
  },
  {
   "cell_type": "code",
   "execution_count": 313,
   "id": "5614ac8644a7da9f",
   "metadata": {
    "ExecuteTime": {
     "end_time": "2024-05-18T08:44:51.445148Z",
     "start_time": "2024-05-18T08:44:51.423946Z"
    }
   },
   "source": [
    "df"
   ],
   "outputs": []
  },
  {
   "cell_type": "code",
   "execution_count": 315,
   "id": "60187114f6ba5343",
   "metadata": {
    "ExecuteTime": {
     "end_time": "2024-05-18T08:45:38.771078Z",
     "start_time": "2024-05-18T08:45:38.766089Z"
    }
   },
   "source": [
    "df = df.dropna()"
   ],
   "outputs": []
  },
  {
   "cell_type": "code",
   "execution_count": 318,
   "id": "52ad5b32d3313b83",
   "metadata": {
    "ExecuteTime": {
     "end_time": "2024-05-18T08:46:46.823377Z",
     "start_time": "2024-05-18T08:46:46.816828Z"
    }
   },
   "source": [
    "X = df.iloc[:, 1:]\n",
    "Y = df.iloc[:, 0]"
   ],
   "outputs": []
  },
  {
   "cell_type": "code",
   "execution_count": 320,
   "id": "b379a45bb67e1b79",
   "metadata": {
    "ExecuteTime": {
     "end_time": "2024-05-18T08:46:53.078945Z",
     "start_time": "2024-05-18T08:46:53.056894Z"
    }
   },
   "source": [
    "X"
   ],
   "outputs": []
  },
  {
   "cell_type": "code",
   "execution_count": 321,
   "id": "30160e4e4f2c9bfe",
   "metadata": {
    "ExecuteTime": {
     "end_time": "2024-05-18T08:47:00.404344Z",
     "start_time": "2024-05-18T08:47:00.382045Z"
    }
   },
   "source": [
    "Y"
   ],
   "outputs": []
  },
  {
   "cell_type": "code",
   "execution_count": 322,
   "id": "d048cbe71f0d1c9",
   "metadata": {
    "ExecuteTime": {
     "end_time": "2024-05-18T08:47:52.349522Z",
     "start_time": "2024-05-18T08:47:52.215940Z"
    }
   },
   "source": [
    "from sklearn.model_selection import train_test_split"
   ],
   "outputs": []
  },
  {
   "cell_type": "code",
   "execution_count": 336,
   "id": "9e5e0ef1246af377",
   "metadata": {
    "ExecuteTime": {
     "end_time": "2024-05-18T08:55:06.394601Z",
     "start_time": "2024-05-18T08:55:06.380978Z"
    }
   },
   "source": [
    "xtrain, xtest, ytrain, ytest = train_test_split(X, Y, test_size=0.2)"
   ],
   "outputs": []
  },
  {
   "cell_type": "code",
   "execution_count": 337,
   "id": "397da49570e62331",
   "metadata": {
    "ExecuteTime": {
     "end_time": "2024-05-18T08:55:23.440853Z",
     "start_time": "2024-05-18T08:55:23.432719Z"
    }
   },
   "source": [
    "xtrain = torch.tensor(xtrain.values, dtype=torch.float32)\n",
    "xtest = torch.tensor(xtest.values, dtype=torch.float32)\n",
    "ytrain = torch.tensor(ytrain.values, dtype=torch.float32)\n",
    "ytest = torch.tensor(ytest.values, dtype=torch.float32)\n",
    "ytrain = ytrain.reshape(-1, 1)\n",
    "ytest = ytest.reshape(-1, 1)"
   ],
   "outputs": []
  },
  {
   "cell_type": "code",
   "execution_count": 327,
   "id": "af4d585a171897dc",
   "metadata": {
    "ExecuteTime": {
     "end_time": "2024-05-18T08:50:28.110868Z",
     "start_time": "2024-05-18T08:50:28.093702Z"
    }
   },
   "source": [
    "xtrain.shape"
   ],
   "outputs": []
  },
  {
   "cell_type": "code",
   "execution_count": 328,
   "id": "4584eed0c14c126",
   "metadata": {
    "ExecuteTime": {
     "end_time": "2024-05-18T08:50:42.963420Z",
     "start_time": "2024-05-18T08:50:42.945779Z"
    }
   },
   "source": [
    "ytrain.unique()"
   ],
   "outputs": []
  },
  {
   "cell_type": "code",
   "execution_count": 329,
   "id": "90889c8a883cd411",
   "metadata": {
    "ExecuteTime": {
     "end_time": "2024-05-18T08:52:30.425175Z",
     "start_time": "2024-05-18T08:52:30.411664Z"
    }
   },
   "source": [
    "class Classifier(nn.Module):\n",
    "    def __init__(self):\n",
    "        super().__init__()\n",
    "        self.fc1 = nn.Linear(12, 128)\n",
    "        self.fc2 = nn.Linear(128, 1)\n",
    "    def forward(self, x):\n",
    "        x = torch.relu(self.fc1(x))\n",
    "        return torch.sigmoid(self.fc2(x))"
   ],
   "outputs": []
  },
  {
   "cell_type": "code",
   "execution_count": 330,
   "id": "c52b0ddafcc3c8d5",
   "metadata": {
    "ExecuteTime": {
     "end_time": "2024-05-18T08:52:53.830379Z",
     "start_time": "2024-05-18T08:52:53.816235Z"
    }
   },
   "source": [
    "model = Classifier()"
   ],
   "outputs": []
  },
  {
   "cell_type": "code",
   "execution_count": 333,
   "id": "7b3e5be69e5e4f1a",
   "metadata": {
    "ExecuteTime": {
     "end_time": "2024-05-18T08:54:30.677846Z",
     "start_time": "2024-05-18T08:54:30.664323Z"
    }
   },
   "source": [],
   "outputs": []
  },
  {
   "cell_type": "code",
   "execution_count": 334,
   "id": "fb6ae05b3cd1d2b3",
   "metadata": {
    "ExecuteTime": {
     "end_time": "2024-05-18T08:54:35.716806Z",
     "start_time": "2024-05-18T08:54:35.696800Z"
    }
   },
   "source": [
    "ytrain.shape"
   ],
   "outputs": []
  },
  {
   "cell_type": "code",
   "execution_count": 338,
   "id": "ac6a8397c74fb70b",
   "metadata": {
    "ExecuteTime": {
     "end_time": "2024-05-18T08:55:39.677213Z",
     "start_time": "2024-05-18T08:55:28.435834Z"
    }
   },
   "source": [
    "device = 'cuda' if torch.cuda.is_available() else 'cpu'\n",
    "\n",
    "model = model.to(device)\n",
    "\n",
    "criterion = nn.BCELoss()\n",
    "optimizer = torch.optim.Adam(model.parameters(), lr=0.01)\n",
    "\n",
    "model.train()\n",
    "for epoch in range(5000):\n",
    "    y_ = model(xtrain.to(device))\n",
    "    loss = criterion(y_, ytrain.to(device))\n",
    "    \n",
    "    optimizer.zero_grad()\n",
    "    loss.backward()\n",
    "    optimizer.step()\n",
    "    if epoch % 100 == 0:\n",
    "        print(f'{epoch}: {loss.item()}')"
   ],
   "outputs": []
  },
  {
   "cell_type": "code",
   "execution_count": 342,
   "id": "a3af4cbaecf0c8ea",
   "metadata": {
    "ExecuteTime": {
     "end_time": "2024-05-18T08:57:11.296741Z",
     "start_time": "2024-05-18T08:57:11.277681Z"
    }
   },
   "source": [
    "model.eval()\n",
    "with torch.no_grad():\n",
    "    y_ = model(xtest.to(device))\n",
    "acc = torch.sum(ytest == y_.round().cpu()) / len(y_)\n",
    "print(acc.item())"
   ],
   "outputs": []
  },
  {
   "cell_type": "code",
   "execution_count": null,
   "id": "f40c4ac125412daf",
   "metadata": {},
   "source": [],
   "outputs": []
  }
 ],
 "metadata": {
  "kernelspec": {
   "display_name": "Python 3 (ipykernel)",
   "language": "python",
   "name": "python3"
  },
  "language_info": {
   "codemirror_mode": {
    "name": "ipython",
    "version": 3
   },
   "file_extension": ".py",
   "mimetype": "text/x-python",
   "name": "python",
   "nbconvert_exporter": "python",
   "pygments_lexer": "ipython3",
   "version": "3.11.4"
  }
 },
 "nbformat": 4,
 "nbformat_minor": 5
}
