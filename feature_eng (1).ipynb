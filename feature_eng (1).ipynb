{
 "cells": [
  {
   "cell_type": "code",
   "id": "initial_id",
   "metadata": {
    "collapsed": true,
    "ExecuteTime": {
     "end_time": "2024-06-01T02:54:11.659875Z",
     "start_time": "2024-06-01T02:54:11.646878Z"
    }
   },
   "source": [
    "import sklearn\n",
    "sklearn.__version__"
   ],
   "execution_count": 191,
   "outputs": []
  },
  {
   "metadata": {},
   "cell_type": "markdown",
   "source": "# ",
   "id": "b2d3ffd9c0f6f6ba"
  },
  {
   "metadata": {},
   "cell_type": "markdown",
   "source": "# Preprocessing",
   "id": "c3ebc4dc5b1334f0"
  },
  {
   "metadata": {},
   "cell_type": "markdown",
   "source": "## Ordinal Encoding",
   "id": "89179615bca98e49"
  },
  {
   "metadata": {
    "ExecuteTime": {
     "end_time": "2024-06-01T02:54:11.676034Z",
     "start_time": "2024-06-01T02:54:11.659875Z"
    }
   },
   "cell_type": "code",
   "source": "from sklearn.preprocessing import OrdinalEncoder",
   "id": "763926437f1dbede",
   "execution_count": 192,
   "outputs": []
  },
  {
   "metadata": {
    "ExecuteTime": {
     "end_time": "2024-06-01T02:54:11.698153Z",
     "start_time": "2024-06-01T02:54:11.681533Z"
    }
   },
   "cell_type": "code",
   "source": "encoder = OrdinalEncoder()",
   "id": "33b9adbe069a148b",
   "execution_count": 193,
   "outputs": []
  },
  {
   "metadata": {
    "ExecuteTime": {
     "end_time": "2024-06-01T02:54:11.716799Z",
     "start_time": "2024-06-01T02:54:11.698153Z"
    }
   },
   "cell_type": "code",
   "source": "X = [['B'], ['A'], ['C'], ['D']]",
   "id": "6dfe7b9d68b8d817",
   "execution_count": 194,
   "outputs": []
  },
  {
   "metadata": {
    "ExecuteTime": {
     "end_time": "2024-06-01T02:54:11.738435Z",
     "start_time": "2024-06-01T02:54:11.716799Z"
    }
   },
   "cell_type": "code",
   "source": "encoder.fit(X)",
   "id": "319caf004d42a68d",
   "execution_count": 195,
   "outputs": []
  },
  {
   "metadata": {
    "ExecuteTime": {
     "end_time": "2024-06-01T02:54:11.751413Z",
     "start_time": "2024-06-01T02:54:11.738435Z"
    }
   },
   "cell_type": "code",
   "source": "X_ = encoder.transform(X)",
   "id": "390d6eeec109f841",
   "execution_count": 196,
   "outputs": []
  },
  {
   "metadata": {
    "ExecuteTime": {
     "end_time": "2024-06-01T02:54:11.771102Z",
     "start_time": "2024-06-01T02:54:11.751413Z"
    }
   },
   "cell_type": "code",
   "source": "X_",
   "id": "95ba55976b52137c",
   "execution_count": 197,
   "outputs": []
  },
  {
   "metadata": {
    "ExecuteTime": {
     "end_time": "2024-06-01T02:54:11.789329Z",
     "start_time": "2024-06-01T02:54:11.771102Z"
    }
   },
   "cell_type": "code",
   "source": "encoder.categories_",
   "id": "4a7dbd5e7cc10380",
   "execution_count": 198,
   "outputs": []
  },
  {
   "metadata": {
    "ExecuteTime": {
     "end_time": "2024-06-01T02:54:11.806936Z",
     "start_time": "2024-06-01T02:54:11.793342Z"
    }
   },
   "cell_type": "code",
   "source": "X = [['A', 10], ['B', 9.5], ['C', 8], ['D', 16]]",
   "id": "1a14d383b59c945d",
   "execution_count": 199,
   "outputs": []
  },
  {
   "metadata": {
    "ExecuteTime": {
     "end_time": "2024-06-01T02:54:12.429852Z",
     "start_time": "2024-06-01T02:54:12.410118Z"
    }
   },
   "cell_type": "code",
   "source": "encoder.fit(X)",
   "id": "fae6d22e2d346711",
   "execution_count": 200,
   "outputs": []
  },
  {
   "metadata": {
    "ExecuteTime": {
     "end_time": "2024-06-01T02:54:15.223979Z",
     "start_time": "2024-06-01T02:54:15.214368Z"
    }
   },
   "cell_type": "code",
   "source": "X_ = encoder.transform(X)",
   "id": "cd7a258d24ec6cfa",
   "execution_count": 201,
   "outputs": []
  },
  {
   "metadata": {
    "ExecuteTime": {
     "end_time": "2024-06-01T02:54:17.098994Z",
     "start_time": "2024-06-01T02:54:17.084842Z"
    }
   },
   "cell_type": "code",
   "source": "X_",
   "id": "b14ac00d95b99f0f",
   "execution_count": 202,
   "outputs": []
  },
  {
   "metadata": {
    "ExecuteTime": {
     "end_time": "2024-06-01T02:54:17.357879Z",
     "start_time": "2024-06-01T02:54:17.349306Z"
    }
   },
   "cell_type": "code",
   "source": "encoder.categories_",
   "id": "9890317c96a12e1b",
   "execution_count": 203,
   "outputs": []
  },
  {
   "metadata": {
    "ExecuteTime": {
     "end_time": "2024-06-01T02:54:17.740304Z",
     "start_time": "2024-06-01T02:54:17.721346Z"
    }
   },
   "cell_type": "code",
   "source": "encoder.inverse_transform(X_)",
   "id": "8777309298260931",
   "execution_count": 204,
   "outputs": []
  },
  {
   "metadata": {},
   "cell_type": "markdown",
   "source": "# Label Encoder",
   "id": "92645c2d67d25578"
  },
  {
   "metadata": {
    "ExecuteTime": {
     "end_time": "2024-06-01T02:54:17.966395Z",
     "start_time": "2024-06-01T02:54:17.954857Z"
    }
   },
   "cell_type": "code",
   "source": "from sklearn.preprocessing import LabelEncoder",
   "id": "26788f8e11f3b3b4",
   "execution_count": 205,
   "outputs": []
  },
  {
   "metadata": {
    "ExecuteTime": {
     "end_time": "2024-06-01T02:54:18.405881Z",
     "start_time": "2024-06-01T02:54:18.397135Z"
    }
   },
   "cell_type": "code",
   "source": "encoder = LabelEncoder()",
   "id": "31d6cb0261d5ea22",
   "execution_count": 206,
   "outputs": []
  },
  {
   "metadata": {
    "ExecuteTime": {
     "end_time": "2024-06-01T02:54:18.729910Z",
     "start_time": "2024-06-01T02:54:18.719513Z"
    }
   },
   "cell_type": "code",
   "source": "Y = ['bat', 'ant', 'cat', 'dog', 'ant']",
   "id": "c7ca77ddbc7f4d28",
   "execution_count": 207,
   "outputs": []
  },
  {
   "metadata": {
    "ExecuteTime": {
     "end_time": "2024-06-01T02:54:19.071961Z",
     "start_time": "2024-06-01T02:54:19.053897Z"
    }
   },
   "cell_type": "code",
   "source": "encoder.fit(Y)",
   "id": "c0312cec31ad7b91",
   "execution_count": 208,
   "outputs": []
  },
  {
   "metadata": {
    "ExecuteTime": {
     "end_time": "2024-06-01T02:54:19.360263Z",
     "start_time": "2024-06-01T02:54:19.351550Z"
    }
   },
   "cell_type": "code",
   "source": "Y_ = encoder.transform(Y)",
   "id": "d30a97aa1fcd1a16",
   "execution_count": 209,
   "outputs": []
  },
  {
   "metadata": {
    "ExecuteTime": {
     "end_time": "2024-06-01T02:54:19.811099Z",
     "start_time": "2024-06-01T02:54:19.788870Z"
    }
   },
   "cell_type": "code",
   "source": "Y_",
   "id": "61d6df5d204fbbef",
   "execution_count": 210,
   "outputs": []
  },
  {
   "metadata": {
    "ExecuteTime": {
     "end_time": "2024-06-01T02:54:20.118634Z",
     "start_time": "2024-06-01T02:54:20.105514Z"
    }
   },
   "cell_type": "code",
   "source": "encoder.classes_",
   "id": "3ecc0a5ddf36d574",
   "execution_count": 211,
   "outputs": []
  },
  {
   "metadata": {
    "ExecuteTime": {
     "end_time": "2024-06-01T02:54:20.453033Z",
     "start_time": "2024-06-01T02:54:20.440622Z"
    }
   },
   "cell_type": "code",
   "source": "encoder.inverse_transform(Y_)",
   "id": "f879dd3206e5c5f",
   "execution_count": 212,
   "outputs": []
  },
  {
   "metadata": {},
   "cell_type": "markdown",
   "source": "# One-hot Encoding",
   "id": "bf2ba474cf9d1d87"
  },
  {
   "metadata": {
    "ExecuteTime": {
     "end_time": "2024-06-01T02:54:20.732534Z",
     "start_time": "2024-06-01T02:54:20.724720Z"
    }
   },
   "cell_type": "code",
   "source": "from sklearn.preprocessing import OneHotEncoder",
   "id": "74f9688f885d10e",
   "execution_count": 213,
   "outputs": []
  },
  {
   "metadata": {
    "ExecuteTime": {
     "end_time": "2024-06-01T02:54:21.101429Z",
     "start_time": "2024-06-01T02:54:21.084781Z"
    }
   },
   "cell_type": "code",
   "source": "encoder = OneHotEncoder()",
   "id": "326ec09700532ef2",
   "execution_count": 214,
   "outputs": []
  },
  {
   "metadata": {
    "ExecuteTime": {
     "end_time": "2024-06-01T02:54:21.363783Z",
     "start_time": "2024-06-01T02:54:21.353833Z"
    }
   },
   "cell_type": "code",
   "source": "X = [['ant'], ['bat'], ['cat'], ['bat'], ['ant'], ['cat']]",
   "id": "346eee7dec2103c0",
   "execution_count": 215,
   "outputs": []
  },
  {
   "metadata": {
    "ExecuteTime": {
     "end_time": "2024-06-01T02:54:21.621177Z",
     "start_time": "2024-06-01T02:54:21.607312Z"
    }
   },
   "cell_type": "code",
   "source": "encoder.fit(X)",
   "id": "cd3cb1c133243516",
   "execution_count": 216,
   "outputs": []
  },
  {
   "metadata": {
    "ExecuteTime": {
     "end_time": "2024-06-01T02:54:21.834329Z",
     "start_time": "2024-06-01T02:54:21.823683Z"
    }
   },
   "cell_type": "code",
   "source": "X_ = encoder.transform(X)",
   "id": "5f9412a5f313efe1",
   "execution_count": 217,
   "outputs": []
  },
  {
   "metadata": {
    "ExecuteTime": {
     "end_time": "2024-06-01T02:54:22.214917Z",
     "start_time": "2024-06-01T02:54:22.203551Z"
    }
   },
   "cell_type": "code",
   "source": "X_",
   "id": "e3edcab61ba0cf7b",
   "execution_count": 218,
   "outputs": []
  },
  {
   "metadata": {
    "ExecuteTime": {
     "end_time": "2024-06-01T02:54:22.571649Z",
     "start_time": "2024-06-01T02:54:22.558560Z"
    }
   },
   "cell_type": "code",
   "source": "X_.todense()",
   "id": "8fef7432ddd9c8ae",
   "execution_count": 219,
   "outputs": []
  },
  {
   "metadata": {
    "ExecuteTime": {
     "end_time": "2024-06-01T02:54:22.954289Z",
     "start_time": "2024-06-01T02:54:22.940847Z"
    }
   },
   "cell_type": "code",
   "source": "encoder.categories_",
   "id": "161749f26596d04c",
   "execution_count": 220,
   "outputs": []
  },
  {
   "metadata": {
    "ExecuteTime": {
     "end_time": "2024-06-01T02:54:23.186807Z",
     "start_time": "2024-06-01T02:54:23.174463Z"
    }
   },
   "cell_type": "code",
   "source": "encoder.inverse_transform(X_)",
   "id": "10c17a0dfa79e7ad",
   "execution_count": 221,
   "outputs": []
  },
  {
   "metadata": {
    "ExecuteTime": {
     "end_time": "2024-06-01T02:54:23.599346Z",
     "start_time": "2024-06-01T02:54:23.588755Z"
    }
   },
   "cell_type": "code",
   "source": "import pandas as pd",
   "id": "4c93a68dd0bfc493",
   "execution_count": 222,
   "outputs": []
  },
  {
   "metadata": {
    "ExecuteTime": {
     "end_time": "2024-06-01T02:54:23.860624Z",
     "start_time": "2024-06-01T02:54:23.850481Z"
    }
   },
   "cell_type": "code",
   "source": "df = pd.DataFrame(X, columns=['animal'])",
   "id": "7bece1382455c992",
   "execution_count": 223,
   "outputs": []
  },
  {
   "metadata": {
    "ExecuteTime": {
     "end_time": "2024-06-01T02:54:24.206733Z",
     "start_time": "2024-06-01T02:54:24.190100Z"
    }
   },
   "cell_type": "code",
   "source": "df",
   "id": "39579a306af939b3",
   "execution_count": 224,
   "outputs": []
  },
  {
   "metadata": {
    "ExecuteTime": {
     "end_time": "2024-06-01T02:54:24.460689Z",
     "start_time": "2024-06-01T02:54:24.443780Z"
    }
   },
   "cell_type": "code",
   "source": "pd.get_dummies(df)",
   "id": "ebd608c3791676a9",
   "execution_count": 225,
   "outputs": []
  },
  {
   "metadata": {
    "ExecuteTime": {
     "end_time": "2024-06-01T02:54:24.747357Z",
     "start_time": "2024-06-01T02:54:24.728679Z"
    }
   },
   "cell_type": "code",
   "source": "pd.get_dummies(df, dtype=int)",
   "id": "d7a846e232892907",
   "execution_count": 226,
   "outputs": []
  },
  {
   "metadata": {
    "ExecuteTime": {
     "end_time": "2024-06-01T02:54:25.113363Z",
     "start_time": "2024-06-01T02:54:25.103331Z"
    }
   },
   "cell_type": "code",
   "source": "df = pd.DataFrame([['male'], ['female'], ['female'], ['male']], columns=['gender'])",
   "id": "ec8036c81f26309c",
   "execution_count": 227,
   "outputs": []
  },
  {
   "metadata": {
    "ExecuteTime": {
     "end_time": "2024-06-01T02:54:25.945558Z",
     "start_time": "2024-06-01T02:54:25.930687Z"
    }
   },
   "cell_type": "code",
   "source": "df_ = pd.get_dummies(df, dtype=int)",
   "id": "1871798bfdb4ae34",
   "execution_count": 228,
   "outputs": []
  },
  {
   "metadata": {
    "ExecuteTime": {
     "end_time": "2024-06-01T02:54:26.922290Z",
     "start_time": "2024-06-01T02:54:26.911789Z"
    }
   },
   "cell_type": "code",
   "source": "df_.columns",
   "id": "d8969d377001558",
   "execution_count": 229,
   "outputs": []
  },
  {
   "metadata": {
    "ExecuteTime": {
     "end_time": "2024-06-01T02:54:27.675060Z",
     "start_time": "2024-06-01T02:54:27.656405Z"
    }
   },
   "cell_type": "code",
   "source": "df_.drop(columns=df_.columns[0])",
   "id": "7cd105fab0f7cbd9",
   "execution_count": 230,
   "outputs": []
  },
  {
   "metadata": {},
   "cell_type": "markdown",
   "source": "# MultiLabel Binarizer",
   "id": "caa6fdf84bb7c054"
  },
  {
   "metadata": {
    "ExecuteTime": {
     "end_time": "2024-06-01T02:54:27.974917Z",
     "start_time": "2024-06-01T02:54:27.969221Z"
    }
   },
   "cell_type": "code",
   "source": "from sklearn.preprocessing import MultiLabelBinarizer",
   "id": "7b3ac081409f0d61",
   "execution_count": 231,
   "outputs": []
  },
  {
   "metadata": {
    "ExecuteTime": {
     "end_time": "2024-06-01T02:54:28.478496Z",
     "start_time": "2024-06-01T02:54:28.470953Z"
    }
   },
   "cell_type": "code",
   "source": "encoder = MultiLabelBinarizer()",
   "id": "7c9a3ff0f59cba73",
   "execution_count": 232,
   "outputs": []
  },
  {
   "metadata": {
    "ExecuteTime": {
     "end_time": "2024-06-01T02:54:29.026110Z",
     "start_time": "2024-06-01T02:54:29.014700Z"
    }
   },
   "cell_type": "code",
   "source": [
    "X = [['sci-fi', 'comedy'], \n",
    "     ['comedy'], \n",
    "     ['drama', 'romance'],  \n",
    "     ['sci-fi', 'drama', 'action']]"
   ],
   "id": "4ab8af9c71155da8",
   "execution_count": 233,
   "outputs": []
  },
  {
   "metadata": {
    "ExecuteTime": {
     "end_time": "2024-06-01T02:54:29.330080Z",
     "start_time": "2024-06-01T02:54:29.309650Z"
    }
   },
   "cell_type": "code",
   "source": "encoder.fit(X)",
   "id": "ea56772fa9d1b6f5",
   "execution_count": 234,
   "outputs": []
  },
  {
   "metadata": {
    "ExecuteTime": {
     "end_time": "2024-06-01T02:54:29.853496Z",
     "start_time": "2024-06-01T02:54:29.845128Z"
    }
   },
   "cell_type": "code",
   "source": "X_ = encoder.transform(X)",
   "id": "5f14e7f839811b3e",
   "execution_count": 235,
   "outputs": []
  },
  {
   "metadata": {
    "ExecuteTime": {
     "end_time": "2024-06-01T02:54:30.132822Z",
     "start_time": "2024-06-01T02:54:30.120327Z"
    }
   },
   "cell_type": "code",
   "source": "X_",
   "id": "faa34f364580d809",
   "execution_count": 236,
   "outputs": []
  },
  {
   "metadata": {
    "ExecuteTime": {
     "end_time": "2024-06-01T02:54:30.655138Z",
     "start_time": "2024-06-01T02:54:30.620226Z"
    }
   },
   "cell_type": "code",
   "source": "encoder.inverse_transform(X_)",
   "id": "23b82c4cbd6b8cdb",
   "execution_count": 237,
   "outputs": []
  },
  {
   "metadata": {
    "ExecuteTime": {
     "end_time": "2024-06-01T02:54:30.962304Z",
     "start_time": "2024-06-01T02:54:30.952854Z"
    }
   },
   "cell_type": "code",
   "source": "encoder.classes_",
   "id": "3d8fd4d7f0f51c6f",
   "execution_count": 238,
   "outputs": []
  },
  {
   "metadata": {},
   "cell_type": "markdown",
   "source": "# K Bins Discretizer",
   "id": "8319d55f27b66571"
  },
  {
   "metadata": {
    "ExecuteTime": {
     "end_time": "2024-06-01T02:54:31.400139Z",
     "start_time": "2024-06-01T02:54:31.385161Z"
    }
   },
   "cell_type": "code",
   "source": "from sklearn.preprocessing import KBinsDiscretizer",
   "id": "ec3838131d5d6180",
   "execution_count": 239,
   "outputs": []
  },
  {
   "metadata": {
    "ExecuteTime": {
     "end_time": "2024-06-01T02:54:31.812495Z",
     "start_time": "2024-06-01T02:54:31.805821Z"
    }
   },
   "cell_type": "code",
   "source": "X = [[10], [11], [12], [16], [21], [22], [35]]",
   "id": "e4549e64f6d5c3c6",
   "execution_count": 240,
   "outputs": []
  },
  {
   "metadata": {
    "ExecuteTime": {
     "end_time": "2024-06-01T02:54:32.101004Z",
     "start_time": "2024-06-01T02:54:32.091317Z"
    }
   },
   "cell_type": "code",
   "source": "encoder = KBinsDiscretizer(n_bins=3)",
   "id": "c91f2cc9a57088ca",
   "execution_count": 241,
   "outputs": []
  },
  {
   "metadata": {
    "ExecuteTime": {
     "end_time": "2024-06-01T02:54:32.423076Z",
     "start_time": "2024-06-01T02:54:32.406648Z"
    }
   },
   "cell_type": "code",
   "source": "encoder.fit(X)",
   "id": "a79191336cdd9b64",
   "execution_count": 242,
   "outputs": []
  },
  {
   "metadata": {
    "ExecuteTime": {
     "end_time": "2024-06-01T02:54:32.635716Z",
     "start_time": "2024-06-01T02:54:32.618817Z"
    }
   },
   "cell_type": "code",
   "source": "X_ = encoder.transform(X)",
   "id": "861224178ade80cd",
   "execution_count": 243,
   "outputs": []
  },
  {
   "metadata": {
    "ExecuteTime": {
     "end_time": "2024-06-01T02:54:32.966790Z",
     "start_time": "2024-06-01T02:54:32.955524Z"
    }
   },
   "cell_type": "code",
   "source": "X_",
   "id": "bf723ef289586429",
   "execution_count": 244,
   "outputs": []
  },
  {
   "metadata": {
    "ExecuteTime": {
     "end_time": "2024-06-01T02:54:33.398525Z",
     "start_time": "2024-06-01T02:54:33.387670Z"
    }
   },
   "cell_type": "code",
   "source": "X_.todense()",
   "id": "cb3df9f72ee16cd",
   "execution_count": 245,
   "outputs": []
  },
  {
   "metadata": {
    "ExecuteTime": {
     "end_time": "2024-06-01T02:54:33.652380Z",
     "start_time": "2024-06-01T02:54:33.641825Z"
    }
   },
   "cell_type": "code",
   "source": "encoder.bin_edges_",
   "id": "71508e8cae71316d",
   "execution_count": 246,
   "outputs": []
  },
  {
   "metadata": {
    "ExecuteTime": {
     "end_time": "2024-06-01T02:54:33.984310Z",
     "start_time": "2024-06-01T02:54:33.973211Z"
    }
   },
   "cell_type": "code",
   "source": "encoder.inverse_transform(X_)",
   "id": "2d0707d614c271e3",
   "execution_count": 247,
   "outputs": []
  },
  {
   "metadata": {
    "ExecuteTime": {
     "end_time": "2024-06-01T02:54:34.199190Z",
     "start_time": "2024-06-01T02:54:34.188773Z"
    }
   },
   "cell_type": "code",
   "source": "encoder = KBinsDiscretizer(n_bins=3, encode='ordinal', strategy='quantile')",
   "id": "f57440e35d3d2337",
   "execution_count": 248,
   "outputs": []
  },
  {
   "metadata": {
    "ExecuteTime": {
     "end_time": "2024-06-01T02:54:34.520971Z",
     "start_time": "2024-06-01T02:54:34.509365Z"
    }
   },
   "cell_type": "code",
   "source": "encoder.fit_transform(X)",
   "id": "3c33752a90f2b631",
   "execution_count": 249,
   "outputs": []
  },
  {
   "metadata": {
    "ExecuteTime": {
     "end_time": "2024-06-01T02:54:34.746638Z",
     "start_time": "2024-06-01T02:54:34.736267Z"
    }
   },
   "cell_type": "code",
   "source": "encoder = KBinsDiscretizer(n_bins=3, encode='ordinal', strategy='uniform')",
   "id": "a7bceebdaf5a3581",
   "execution_count": 250,
   "outputs": []
  },
  {
   "metadata": {
    "ExecuteTime": {
     "end_time": "2024-06-01T02:54:35.053556Z",
     "start_time": "2024-06-01T02:54:35.045151Z"
    }
   },
   "cell_type": "code",
   "source": [
    "encoder.fit_transform(X)\n",
    "\n"
   ],
   "id": "5c4a6aabb3022cea",
   "execution_count": 251,
   "outputs": []
  },
  {
   "metadata": {},
   "cell_type": "markdown",
   "source": "# MinMax Scaler",
   "id": "43a28b305d882dca"
  },
  {
   "metadata": {
    "ExecuteTime": {
     "end_time": "2024-06-01T02:54:35.216793Z",
     "start_time": "2024-06-01T02:54:35.207581Z"
    }
   },
   "cell_type": "code",
   "source": "from sklearn.preprocessing import MinMaxScaler",
   "id": "84094426a99caa3a",
   "execution_count": 252,
   "outputs": []
  },
  {
   "metadata": {
    "ExecuteTime": {
     "end_time": "2024-06-01T02:54:35.483129Z",
     "start_time": "2024-06-01T02:54:35.476807Z"
    }
   },
   "cell_type": "code",
   "source": "X = [[1], [2], [3.9], [4], [5]]",
   "id": "2e6b4b308dd4d5bb",
   "execution_count": 253,
   "outputs": []
  },
  {
   "metadata": {
    "ExecuteTime": {
     "end_time": "2024-06-01T02:54:35.791875Z",
     "start_time": "2024-06-01T02:54:35.782191Z"
    }
   },
   "cell_type": "code",
   "source": "scaler = MinMaxScaler()",
   "id": "858df5e9f3edd527",
   "execution_count": 254,
   "outputs": []
  },
  {
   "metadata": {
    "ExecuteTime": {
     "end_time": "2024-06-01T02:54:36.052826Z",
     "start_time": "2024-06-01T02:54:36.038234Z"
    }
   },
   "cell_type": "code",
   "source": "scaler.fit(X)",
   "id": "dab3b4dc445670f8",
   "execution_count": 255,
   "outputs": []
  },
  {
   "metadata": {
    "ExecuteTime": {
     "end_time": "2024-06-01T02:54:36.292150Z",
     "start_time": "2024-06-01T02:54:36.276431Z"
    }
   },
   "cell_type": "code",
   "source": "X_ = scaler.transform(X)",
   "id": "8156d1dc18b88f33",
   "execution_count": 256,
   "outputs": []
  },
  {
   "metadata": {
    "ExecuteTime": {
     "end_time": "2024-06-01T02:54:36.660149Z",
     "start_time": "2024-06-01T02:54:36.644729Z"
    }
   },
   "cell_type": "code",
   "source": "X_",
   "id": "b99ce61986f11212",
   "execution_count": 257,
   "outputs": []
  },
  {
   "metadata": {
    "ExecuteTime": {
     "end_time": "2024-06-01T02:54:36.912562Z",
     "start_time": "2024-06-01T02:54:36.898215Z"
    }
   },
   "cell_type": "code",
   "source": "scaler.inverse_transform(X_)",
   "id": "c7cdec22fc88cb38",
   "execution_count": 258,
   "outputs": []
  },
  {
   "metadata": {},
   "cell_type": "markdown",
   "source": "# Normalization",
   "id": "2292715804b77754"
  },
  {
   "metadata": {
    "ExecuteTime": {
     "end_time": "2024-06-01T02:54:37.164238Z",
     "start_time": "2024-06-01T02:54:37.157492Z"
    }
   },
   "cell_type": "code",
   "source": "from sklearn.preprocessing import Normalizer",
   "id": "5994063c5e1c8c3",
   "execution_count": 259,
   "outputs": []
  },
  {
   "metadata": {
    "ExecuteTime": {
     "end_time": "2024-06-01T02:54:37.417471Z",
     "start_time": "2024-06-01T02:54:37.412162Z"
    }
   },
   "cell_type": "code",
   "source": "normalizer = Normalizer()",
   "id": "1447d7ed2f3feb0a",
   "execution_count": 260,
   "outputs": []
  },
  {
   "metadata": {
    "ExecuteTime": {
     "end_time": "2024-06-01T02:54:37.747702Z",
     "start_time": "2024-06-01T02:54:37.739585Z"
    }
   },
   "cell_type": "code",
   "source": [
    "X = [[4, 1, 2, 2],\n",
    "     [1, 3, 9, 3],\n",
    "     [5, 7, 5, 1]]"
   ],
   "id": "f35498051b1b47c1",
   "execution_count": 261,
   "outputs": []
  },
  {
   "metadata": {
    "ExecuteTime": {
     "end_time": "2024-06-01T02:54:37.959519Z",
     "start_time": "2024-06-01T02:54:37.943893Z"
    }
   },
   "cell_type": "code",
   "source": "normalizer.fit(X)",
   "id": "b525f8480d449744",
   "execution_count": 262,
   "outputs": []
  },
  {
   "metadata": {
    "ExecuteTime": {
     "end_time": "2024-06-01T02:54:38.233060Z",
     "start_time": "2024-06-01T02:54:38.224922Z"
    }
   },
   "cell_type": "code",
   "source": "X_ = normalizer.transform(X)",
   "id": "b8d3d16531a88b41",
   "execution_count": 263,
   "outputs": []
  },
  {
   "metadata": {
    "ExecuteTime": {
     "end_time": "2024-06-01T02:54:38.509615Z",
     "start_time": "2024-06-01T02:54:38.494448Z"
    }
   },
   "cell_type": "code",
   "source": "X_",
   "id": "bc13f015e338c427",
   "execution_count": 264,
   "outputs": []
  },
  {
   "metadata": {
    "ExecuteTime": {
     "end_time": "2024-06-01T02:54:38.842405Z",
     "start_time": "2024-06-01T02:54:38.810910Z"
    }
   },
   "cell_type": "code",
   "source": "normalizer.inverse_transform(X_)",
   "id": "6f34380cd6cffbbb",
   "execution_count": 265,
   "outputs": []
  },
  {
   "metadata": {
    "ExecuteTime": {
     "end_time": "2024-06-01T02:54:39.137152Z",
     "start_time": "2024-06-01T02:54:39.131107Z"
    }
   },
   "cell_type": "code",
   "source": "normalizer = Normalizer(norm='l1')",
   "id": "c4a4e31ac7526ab2",
   "execution_count": 266,
   "outputs": []
  },
  {
   "metadata": {
    "ExecuteTime": {
     "end_time": "2024-06-01T02:54:39.508644Z",
     "start_time": "2024-06-01T02:54:39.498275Z"
    }
   },
   "cell_type": "code",
   "source": "normalizer.fit(X)",
   "id": "27130e138bf9d083",
   "execution_count": 267,
   "outputs": []
  },
  {
   "metadata": {
    "ExecuteTime": {
     "end_time": "2024-06-01T02:54:39.897771Z",
     "start_time": "2024-06-01T02:54:39.889997Z"
    }
   },
   "cell_type": "code",
   "source": "X_ = normalizer.transform(X)",
   "id": "cfe48b3c3b4fada6",
   "execution_count": 268,
   "outputs": []
  },
  {
   "metadata": {
    "ExecuteTime": {
     "end_time": "2024-06-01T02:54:40.171527Z",
     "start_time": "2024-06-01T02:54:40.163921Z"
    }
   },
   "cell_type": "code",
   "source": "X_",
   "id": "7832ab573543a97d",
   "execution_count": 269,
   "outputs": []
  },
  {
   "metadata": {},
   "cell_type": "markdown",
   "source": "# Standardization",
   "id": "9c2250d6be972046"
  },
  {
   "metadata": {
    "ExecuteTime": {
     "end_time": "2024-06-01T02:54:40.513144Z",
     "start_time": "2024-06-01T02:54:40.508477Z"
    }
   },
   "cell_type": "code",
   "source": "from sklearn.preprocessing import StandardScaler",
   "id": "def3e6722907cd63",
   "execution_count": 270,
   "outputs": []
  },
  {
   "metadata": {
    "ExecuteTime": {
     "end_time": "2024-06-01T02:54:40.795609Z",
     "start_time": "2024-06-01T02:54:40.780825Z"
    }
   },
   "cell_type": "code",
   "source": "scaler = StandardScaler()",
   "id": "b54ba7aad2ab9f9c",
   "execution_count": 271,
   "outputs": []
  },
  {
   "metadata": {
    "ExecuteTime": {
     "end_time": "2024-06-01T02:54:41.164460Z",
     "start_time": "2024-06-01T02:54:41.148942Z"
    }
   },
   "cell_type": "code",
   "source": "X = [[1, 2], [2, 3], [3, 4], [4, 5]]",
   "id": "ef58b6ee59b5b31b",
   "execution_count": 272,
   "outputs": []
  },
  {
   "metadata": {
    "ExecuteTime": {
     "end_time": "2024-06-01T02:54:41.431942Z",
     "start_time": "2024-06-01T02:54:41.418958Z"
    }
   },
   "cell_type": "code",
   "source": "scaler.fit(X)",
   "id": "84eeeba538134d87",
   "execution_count": 273,
   "outputs": []
  },
  {
   "metadata": {
    "ExecuteTime": {
     "end_time": "2024-06-01T02:54:41.718429Z",
     "start_time": "2024-06-01T02:54:41.709963Z"
    }
   },
   "cell_type": "code",
   "source": "X_ = scaler.transform(X)",
   "id": "47747504851e5b9",
   "execution_count": 274,
   "outputs": []
  },
  {
   "metadata": {
    "ExecuteTime": {
     "end_time": "2024-06-01T02:54:41.895005Z",
     "start_time": "2024-06-01T02:54:41.881939Z"
    }
   },
   "cell_type": "code",
   "source": "X_",
   "id": "172b57333cecead4",
   "execution_count": 275,
   "outputs": []
  },
  {
   "metadata": {
    "ExecuteTime": {
     "end_time": "2024-06-01T02:54:42.214415Z",
     "start_time": "2024-06-01T02:54:42.202345Z"
    }
   },
   "cell_type": "code",
   "source": "scaler.mean_, scaler.var_",
   "id": "c8875ad17ecc1a54",
   "execution_count": 276,
   "outputs": []
  },
  {
   "metadata": {
    "ExecuteTime": {
     "end_time": "2024-06-01T02:54:42.426809Z",
     "start_time": "2024-06-01T02:54:42.413378Z"
    }
   },
   "cell_type": "code",
   "source": "scaler.inverse_transform(X_)",
   "id": "800cdc515211a282",
   "execution_count": 277,
   "outputs": []
  },
  {
   "metadata": {},
   "cell_type": "markdown",
   "source": "# Imputation",
   "id": "1a71413aaf59e0a0"
  },
  {
   "metadata": {
    "ExecuteTime": {
     "end_time": "2024-06-01T02:54:42.739547Z",
     "start_time": "2024-06-01T02:54:42.731436Z"
    }
   },
   "cell_type": "code",
   "source": "import numpy as np",
   "id": "3cc11add5097aa41",
   "execution_count": 278,
   "outputs": []
  },
  {
   "metadata": {
    "ExecuteTime": {
     "end_time": "2024-06-01T02:54:42.941865Z",
     "start_time": "2024-06-01T02:54:42.931170Z"
    }
   },
   "cell_type": "code",
   "source": "X = [[np.nan, np.nan, 3], [4, 1, 6], [10,2,9],[10,2,9]]",
   "id": "b3372b735405ac0c",
   "execution_count": 279,
   "outputs": []
  },
  {
   "metadata": {
    "ExecuteTime": {
     "end_time": "2024-06-01T02:54:43.308340Z",
     "start_time": "2024-06-01T02:54:43.300261Z"
    }
   },
   "cell_type": "code",
   "source": "from sklearn.impute import SimpleImputer",
   "id": "f282ecfd69514354",
   "execution_count": 280,
   "outputs": []
  },
  {
   "metadata": {
    "ExecuteTime": {
     "end_time": "2024-06-01T02:54:43.467774Z",
     "start_time": "2024-06-01T02:54:43.460261Z"
    }
   },
   "cell_type": "code",
   "source": "imputer = SimpleImputer(strategy='mean')",
   "id": "bed438b687d60f04",
   "execution_count": 281,
   "outputs": []
  },
  {
   "metadata": {
    "ExecuteTime": {
     "end_time": "2024-06-01T02:54:43.707666Z",
     "start_time": "2024-06-01T02:54:43.695318Z"
    }
   },
   "cell_type": "code",
   "source": "imputer.fit(X)",
   "id": "e1f592aaccd52a75",
   "execution_count": 282,
   "outputs": []
  },
  {
   "metadata": {
    "ExecuteTime": {
     "end_time": "2024-06-01T02:54:43.930116Z",
     "start_time": "2024-06-01T02:54:43.924078Z"
    }
   },
   "cell_type": "code",
   "source": "X_ = imputer.transform(X)",
   "id": "d404f0c2a9daa32",
   "execution_count": 283,
   "outputs": []
  },
  {
   "metadata": {
    "ExecuteTime": {
     "end_time": "2024-06-01T02:54:44.313867Z",
     "start_time": "2024-06-01T02:54:44.300158Z"
    }
   },
   "cell_type": "code",
   "source": "X_",
   "id": "b96aff5f05af347c",
   "execution_count": 284,
   "outputs": []
  },
  {
   "metadata": {
    "ExecuteTime": {
     "end_time": "2024-06-01T02:54:44.630958Z",
     "start_time": "2024-06-01T02:54:44.584529Z"
    }
   },
   "cell_type": "code",
   "source": "imputer.inverse_transform(X_)",
   "id": "da8ac0f2ed4454c6",
   "execution_count": 285,
   "outputs": []
  },
  {
   "metadata": {
    "ExecuteTime": {
     "end_time": "2024-06-01T02:54:44.858365Z",
     "start_time": "2024-06-01T02:54:44.848008Z"
    }
   },
   "cell_type": "code",
   "source": "imputer = SimpleImputer(strategy='mean', add_indicator=True)",
   "id": "64753213f64cbc4e",
   "execution_count": 286,
   "outputs": []
  },
  {
   "metadata": {
    "ExecuteTime": {
     "end_time": "2024-06-01T02:54:45.134561Z",
     "start_time": "2024-06-01T02:54:45.118276Z"
    }
   },
   "cell_type": "code",
   "source": "imputer.fit(X)",
   "id": "2f5b882313816a0d",
   "execution_count": 287,
   "outputs": []
  },
  {
   "metadata": {
    "ExecuteTime": {
     "end_time": "2024-06-01T02:54:45.477719Z",
     "start_time": "2024-06-01T02:54:45.471669Z"
    }
   },
   "cell_type": "code",
   "source": "X_ = imputer.transform(X)",
   "id": "2b499ecc2c967790",
   "execution_count": 288,
   "outputs": []
  },
  {
   "metadata": {
    "ExecuteTime": {
     "end_time": "2024-06-01T02:54:45.715518Z",
     "start_time": "2024-06-01T02:54:45.707536Z"
    }
   },
   "cell_type": "code",
   "source": "imputer.inverse_transform(X_)",
   "id": "eb4a6e953d63f76d",
   "execution_count": 289,
   "outputs": []
  },
  {
   "metadata": {
    "ExecuteTime": {
     "end_time": "2024-06-01T02:54:46.062115Z",
     "start_time": "2024-06-01T02:54:46.047231Z"
    }
   },
   "cell_type": "code",
   "source": [
    "imputer = SimpleImputer(strategy='most_frequent')\n",
    "imputer.fit_transform(X)"
   ],
   "id": "63f283794290e5cd",
   "execution_count": 290,
   "outputs": []
  },
  {
   "metadata": {
    "ExecuteTime": {
     "end_time": "2024-06-01T02:54:46.233713Z",
     "start_time": "2024-06-01T02:54:46.220500Z"
    }
   },
   "cell_type": "code",
   "source": [
    "imputer = SimpleImputer(strategy='median')\n",
    "imputer.fit_transform(X)"
   ],
   "id": "c517f3be48eb0fdf",
   "execution_count": 291,
   "outputs": []
  },
  {
   "metadata": {
    "ExecuteTime": {
     "end_time": "2024-06-01T02:54:46.576101Z",
     "start_time": "2024-06-01T02:54:46.563409Z"
    }
   },
   "cell_type": "code",
   "source": [
    "imputer = SimpleImputer(strategy='constant', fill_value=-1)\n",
    "imputer.fit_transform(X)"
   ],
   "id": "8f7e8f1fce66441",
   "execution_count": 292,
   "outputs": []
  },
  {
   "metadata": {
    "ExecuteTime": {
     "end_time": "2024-06-01T02:54:46.797749Z",
     "start_time": "2024-06-01T02:54:46.789654Z"
    }
   },
   "cell_type": "code",
   "source": "X = [['dog'], ['dog'], ['cat'], [np.nan]]",
   "id": "15c6b622b87de69b",
   "execution_count": 293,
   "outputs": []
  },
  {
   "metadata": {
    "ExecuteTime": {
     "end_time": "2024-06-01T02:54:47.102804Z",
     "start_time": "2024-06-01T02:54:47.090445Z"
    }
   },
   "cell_type": "code",
   "source": [
    "imputer = SimpleImputer(strategy='most_frequent')\n",
    "imputer.fit_transform(X)"
   ],
   "id": "393b11653b8b5b64",
   "execution_count": 294,
   "outputs": []
  },
  {
   "metadata": {
    "ExecuteTime": {
     "end_time": "2024-06-01T02:54:47.340207Z",
     "start_time": "2024-06-01T02:54:47.327184Z"
    }
   },
   "cell_type": "code",
   "source": [
    "imputer = SimpleImputer(strategy='constant')\n",
    "imputer.fit_transform(X)"
   ],
   "id": "b97da08c12d3f9e3",
   "execution_count": 295,
   "outputs": []
  },
  {
   "metadata": {
    "ExecuteTime": {
     "end_time": "2024-06-01T02:54:47.635200Z",
     "start_time": "2024-06-01T02:54:47.622025Z"
    }
   },
   "cell_type": "code",
   "source": [
    "imputer = SimpleImputer(strategy='constant', fill_value='cat')\n",
    "imputer.fit_transform(X)"
   ],
   "id": "4b9ba72447b3d9f",
   "execution_count": 296,
   "outputs": []
  },
  {
   "metadata": {},
   "cell_type": "markdown",
   "source": "# KNN Imputer",
   "id": "eb3005d2852b6137"
  },
  {
   "metadata": {
    "ExecuteTime": {
     "end_time": "2024-06-01T02:54:47.848629Z",
     "start_time": "2024-06-01T02:54:47.839643Z"
    }
   },
   "cell_type": "code",
   "source": "X = [[np.nan, np.nan, 3], [4, 1, 6], [10,2,9],[10,2,9]]",
   "id": "ee510e157c69b3f5",
   "execution_count": 297,
   "outputs": []
  },
  {
   "metadata": {
    "ExecuteTime": {
     "end_time": "2024-06-01T02:54:48.183493Z",
     "start_time": "2024-06-01T02:54:48.179396Z"
    }
   },
   "cell_type": "code",
   "source": "from sklearn.impute import KNNImputer",
   "id": "b85272e188e9e57f",
   "execution_count": 298,
   "outputs": []
  },
  {
   "metadata": {
    "ExecuteTime": {
     "end_time": "2024-06-01T02:54:48.379215Z",
     "start_time": "2024-06-01T02:54:48.369995Z"
    }
   },
   "cell_type": "code",
   "source": "imputer = KNNImputer(n_neighbors=1)",
   "id": "b967afba12494531",
   "execution_count": 299,
   "outputs": []
  },
  {
   "metadata": {
    "ExecuteTime": {
     "end_time": "2024-06-01T02:54:48.674700Z",
     "start_time": "2024-06-01T02:54:48.655161Z"
    }
   },
   "cell_type": "code",
   "source": "imputer.fit(X)",
   "id": "b91cd7027be6137f",
   "execution_count": 300,
   "outputs": []
  },
  {
   "metadata": {
    "ExecuteTime": {
     "end_time": "2024-06-01T02:54:48.907428Z",
     "start_time": "2024-06-01T02:54:48.893421Z"
    }
   },
   "cell_type": "code",
   "source": "X_ = imputer.transform(X)",
   "id": "e413d13ec0045086",
   "execution_count": 301,
   "outputs": []
  },
  {
   "metadata": {
    "ExecuteTime": {
     "end_time": "2024-06-01T02:54:49.206420Z",
     "start_time": "2024-06-01T02:54:49.190279Z"
    }
   },
   "cell_type": "code",
   "source": "X_",
   "id": "6b9595905c536d71",
   "execution_count": 302,
   "outputs": []
  },
  {
   "metadata": {},
   "cell_type": "markdown",
   "source": "# Feature Selection",
   "id": "da52ae5b3aec70a0"
  },
  {
   "metadata": {},
   "cell_type": "markdown",
   "source": "## Variance Threshold",
   "id": "b9b84f88a9b44caa"
  },
  {
   "metadata": {
    "ExecuteTime": {
     "end_time": "2024-06-01T02:54:49.465381Z",
     "start_time": "2024-06-01T02:54:49.456452Z"
    }
   },
   "cell_type": "code",
   "source": "from sklearn.feature_selection import VarianceThreshold",
   "id": "ad4ebdc37f0336a8",
   "execution_count": 303,
   "outputs": []
  },
  {
   "metadata": {
    "ExecuteTime": {
     "end_time": "2024-06-01T02:54:49.738867Z",
     "start_time": "2024-06-01T02:54:49.728156Z"
    }
   },
   "cell_type": "code",
   "source": [
    "X = [[1, 2, 3], [5, 2, 4], [10, 2.2, 5]]\n",
    "X = pd.DataFrame(X, columns=['A', 'B', 'C'])"
   ],
   "id": "e579212df9c54805",
   "execution_count": 304,
   "outputs": []
  },
  {
   "metadata": {
    "ExecuteTime": {
     "end_time": "2024-06-01T02:54:49.957671Z",
     "start_time": "2024-06-01T02:54:49.941562Z"
    }
   },
   "cell_type": "code",
   "source": "X",
   "id": "ee745c1e26cc0fd7",
   "execution_count": 305,
   "outputs": []
  },
  {
   "metadata": {
    "ExecuteTime": {
     "end_time": "2024-06-01T02:54:50.188867Z",
     "start_time": "2024-06-01T02:54:50.178938Z"
    }
   },
   "cell_type": "code",
   "source": [
    "p = 0.2\n",
    "th = p * (1 - p)\n",
    "selector = VarianceThreshold(threshold=th)"
   ],
   "id": "ac853b7d1694f29f",
   "execution_count": 306,
   "outputs": []
  },
  {
   "metadata": {
    "ExecuteTime": {
     "end_time": "2024-06-01T02:54:50.403109Z",
     "start_time": "2024-06-01T02:54:50.393284Z"
    }
   },
   "cell_type": "code",
   "source": "selector.fit(X)",
   "id": "eb8b2f32bc553670",
   "execution_count": 307,
   "outputs": []
  },
  {
   "metadata": {
    "ExecuteTime": {
     "end_time": "2024-06-01T02:54:50.800577Z",
     "start_time": "2024-06-01T02:54:50.791183Z"
    }
   },
   "cell_type": "code",
   "source": "selector.variances_",
   "id": "5ca5409661d37804",
   "execution_count": 308,
   "outputs": []
  },
  {
   "metadata": {
    "ExecuteTime": {
     "end_time": "2024-06-01T02:54:51.089209Z",
     "start_time": "2024-06-01T02:54:51.070099Z"
    }
   },
   "cell_type": "code",
   "source": "X_ = selector.transform(X)",
   "id": "ea34305159d7803a",
   "execution_count": 309,
   "outputs": []
  },
  {
   "metadata": {
    "ExecuteTime": {
     "end_time": "2024-06-01T02:54:51.626276Z",
     "start_time": "2024-06-01T02:54:51.612629Z"
    }
   },
   "cell_type": "code",
   "source": "X_",
   "id": "8461fc6aebd4a4d5",
   "execution_count": 310,
   "outputs": []
  },
  {
   "metadata": {
    "ExecuteTime": {
     "end_time": "2024-06-01T02:54:51.912780Z",
     "start_time": "2024-06-01T02:54:51.899250Z"
    }
   },
   "cell_type": "code",
   "source": "selector.get_feature_names_out()",
   "id": "25f0f11de2909e5d",
   "execution_count": 311,
   "outputs": []
  },
  {
   "metadata": {},
   "cell_type": "markdown",
   "source": "# Classification",
   "id": "2dd69121e8d9aca1"
  },
  {
   "metadata": {
    "ExecuteTime": {
     "end_time": "2024-06-01T02:54:52.334880Z",
     "start_time": "2024-06-01T02:54:52.326835Z"
    }
   },
   "cell_type": "code",
   "source": [
    "from sklearn.datasets import load_iris\n",
    "from sklearn.feature_selection import SelectKBest, SelectPercentile, GenericUnivariateSelect, \\\n",
    "                                      chi2, f_classif, mutual_info_classif"
   ],
   "id": "373fdb8fa26205e5",
   "execution_count": 312,
   "outputs": []
  },
  {
   "metadata": {
    "ExecuteTime": {
     "end_time": "2024-06-01T02:54:52.737419Z",
     "start_time": "2024-06-01T02:54:52.721351Z"
    }
   },
   "cell_type": "code",
   "source": "X = load_iris(as_frame=True)",
   "id": "9bb44758845e7e72",
   "execution_count": 313,
   "outputs": []
  },
  {
   "metadata": {
    "ExecuteTime": {
     "end_time": "2024-06-01T02:54:53.138805Z",
     "start_time": "2024-06-01T02:54:53.112983Z"
    }
   },
   "cell_type": "code",
   "source": "X.data",
   "id": "6bd86af658d5b26b",
   "execution_count": 314,
   "outputs": []
  },
  {
   "metadata": {
    "ExecuteTime": {
     "end_time": "2024-06-01T02:54:53.347532Z",
     "start_time": "2024-06-01T02:54:53.335876Z"
    }
   },
   "cell_type": "code",
   "source": "X.target",
   "id": "b874cca8452caa05",
   "execution_count": 315,
   "outputs": []
  },
  {
   "metadata": {
    "ExecuteTime": {
     "end_time": "2024-06-01T02:54:53.702348Z",
     "start_time": "2024-06-01T02:54:53.658201Z"
    }
   },
   "cell_type": "code",
   "source": [
    "# score_func = chi2\n",
    "# score_func = f_classif\n",
    "score_func = mutual_info_classif\n",
    "\n",
    "# selector = SelectKBest(score_func=score_func, k=2)\n",
    "selector = GenericUnivariateSelect(score_func=score_func, mode='k_best', param=2)\n",
    "selector.fit(X.data, X.target)\n",
    "print(selector.scores_)\n",
    "print(selector.get_feature_names_out())"
   ],
   "id": "5edad5379cfa393c",
   "execution_count": 316,
   "outputs": []
  },
  {
   "metadata": {
    "ExecuteTime": {
     "end_time": "2024-06-01T02:54:53.976166Z",
     "start_time": "2024-06-01T02:54:53.953058Z"
    }
   },
   "cell_type": "code",
   "source": [
    "score_func = chi2\n",
    "# score_func = f_classif\n",
    "# score_func = mutual_info_classif\n",
    "\n",
    "# selector = SelectPercentile(score_func=score_func, percentile=30)\n",
    "selector = GenericUnivariateSelect(score_func=score_func, mode='percentile', param=30)\n",
    "selector.fit(X.data, X.target)\n",
    "print(selector.scores_)\n",
    "print(selector.get_feature_names_out())"
   ],
   "id": "3712c8972a0e4f8e",
   "execution_count": 317,
   "outputs": []
  },
  {
   "metadata": {
    "ExecuteTime": {
     "end_time": "2024-06-01T02:54:54.579209Z",
     "start_time": "2024-06-01T02:54:54.559952Z"
    }
   },
   "cell_type": "code",
   "source": [
    "score_func = chi2\n",
    "# score_func = f_classif\n",
    "# score_func = mutual_info_classif\n",
    "\n",
    "selector = GenericUnivariateSelect(score_func=score_func, mode='fwe', param=0.05)\n",
    "selector.fit(X.data, X.target)\n",
    "print(selector.scores_)\n",
    "print(selector.pvalues_)\n",
    "print(selector.get_feature_names_out())"
   ],
   "id": "33d77d93144cb552",
   "execution_count": 318,
   "outputs": []
  },
  {
   "metadata": {},
   "cell_type": "markdown",
   "source": "# Regression",
   "id": "41d37c67db27ad66"
  },
  {
   "metadata": {},
   "cell_type": "code",
   "source": "from sklearn.feature_selection import r_regression, f_regression, mutual_info_regression",
   "id": "6734b0077d3ee27f",
   "execution_count": 319,
   "outputs": []
  },
  {
   "metadata": {
    "ExecuteTime": {
     "end_time": "2024-06-01T02:54:55.495724Z",
     "start_time": "2024-06-01T02:54:55.489055Z"
    }
   },
   "cell_type": "code",
   "source": "from sklearn.datasets import load_diabetes",
   "id": "d35691b1e235be6e",
   "execution_count": 320,
   "outputs": []
  },
  {
   "metadata": {
    "ExecuteTime": {
     "end_time": "2024-06-01T02:54:55.849836Z",
     "start_time": "2024-06-01T02:54:55.830598Z"
    }
   },
   "cell_type": "code",
   "source": "X = load_diabetes(as_frame=True)",
   "id": "8eb0d8f6695608aa",
   "execution_count": 321,
   "outputs": []
  },
  {
   "metadata": {
    "ExecuteTime": {
     "end_time": "2024-06-01T02:54:56.086232Z",
     "start_time": "2024-06-01T02:54:56.046239Z"
    }
   },
   "cell_type": "code",
   "source": "X.data",
   "id": "1470716ba1a06868",
   "execution_count": 322,
   "outputs": []
  },
  {
   "metadata": {
    "ExecuteTime": {
     "end_time": "2024-06-01T02:54:56.353629Z",
     "start_time": "2024-06-01T02:54:56.330601Z"
    }
   },
   "cell_type": "code",
   "source": "X.target",
   "id": "4d3dd17def2d197",
   "execution_count": 323,
   "outputs": []
  },
  {
   "metadata": {
    "ExecuteTime": {
     "end_time": "2024-06-01T02:54:56.670400Z",
     "start_time": "2024-06-01T02:54:56.593454Z"
    }
   },
   "cell_type": "code",
   "source": [
    "# score_func = r_regression\n",
    "# score_func = f_regression\n",
    "score_func = mutual_info_regression\n",
    "\n",
    "selector = GenericUnivariateSelect(score_func=score_func, mode='k_best', param=5)\n",
    "selector.fit(X.data, X.target)\n",
    "print(selector.scores_)\n",
    "print(selector.get_feature_names_out())"
   ],
   "id": "7a88c28c43c11d83",
   "execution_count": 324,
   "outputs": []
  },
  {
   "metadata": {
    "ExecuteTime": {
     "end_time": "2024-06-01T02:54:57.026870Z",
     "start_time": "2024-06-01T02:54:57.016304Z"
    }
   },
   "cell_type": "code",
   "source": "eval('r_regression')",
   "id": "88964558166c9e2c",
   "execution_count": 325,
   "outputs": []
  },
  {
   "metadata": {
    "ExecuteTime": {
     "end_time": "2024-06-01T02:54:57.562879Z",
     "start_time": "2024-06-01T02:54:57.551572Z"
    }
   },
   "cell_type": "code",
   "source": "selector.get_support()",
   "id": "ec75d58d43b4b1a5",
   "execution_count": 326,
   "outputs": []
  },
  {
   "metadata": {},
   "cell_type": "markdown",
   "source": "# Feature Importance",
   "id": "5b263bca36a3e80a"
  },
  {
   "metadata": {
    "ExecuteTime": {
     "end_time": "2024-06-01T02:54:57.935834Z",
     "start_time": "2024-06-01T02:54:57.927162Z"
    }
   },
   "cell_type": "code",
   "source": [
    "from sklearn.ensemble import RandomForestClassifier\n",
    "# from sklearn.neighbors import KNeighborsClassifier\n",
    "from sklearn.feature_selection import SelectFromModel"
   ],
   "id": "1b09ee832fa86d77",
   "execution_count": 327,
   "outputs": []
  },
  {
   "metadata": {
    "ExecuteTime": {
     "end_time": "2024-06-01T02:54:58.447858Z",
     "start_time": "2024-06-01T02:54:58.434480Z"
    }
   },
   "cell_type": "code",
   "source": "X = load_iris(as_frame=True)",
   "id": "98ee2bbeaf855a4a",
   "execution_count": 328,
   "outputs": []
  },
  {
   "metadata": {
    "ExecuteTime": {
     "end_time": "2024-06-01T02:54:58.674651Z",
     "start_time": "2024-06-01T02:54:58.665763Z"
    }
   },
   "cell_type": "code",
   "source": "clf = RandomForestClassifier()",
   "id": "282b179aafa7d451",
   "execution_count": 329,
   "outputs": []
  },
  {
   "metadata": {
    "ExecuteTime": {
     "end_time": "2024-06-01T02:54:59.340304Z",
     "start_time": "2024-06-01T02:54:59.018965Z"
    }
   },
   "cell_type": "code",
   "source": "clf.fit(X.data, X.target)",
   "id": "d43aeb386ab93a07",
   "execution_count": 330,
   "outputs": []
  },
  {
   "metadata": {
    "ExecuteTime": {
     "end_time": "2024-06-01T02:54:59.369978Z",
     "start_time": "2024-06-01T02:54:59.340304Z"
    }
   },
   "cell_type": "code",
   "source": "clf.feature_importances_",
   "id": "5a20971d566875db",
   "execution_count": 331,
   "outputs": []
  },
  {
   "metadata": {
    "ExecuteTime": {
     "end_time": "2024-06-01T02:54:59.661606Z",
     "start_time": "2024-06-01T02:54:59.656Z"
    }
   },
   "cell_type": "code",
   "source": "selector = SelectFromModel(clf, prefit=True)",
   "id": "40ee1a0f4cfacd05",
   "execution_count": 332,
   "outputs": []
  },
  {
   "metadata": {
    "ExecuteTime": {
     "end_time": "2024-06-01T02:55:00.037603Z",
     "start_time": "2024-06-01T02:54:59.988771Z"
    }
   },
   "cell_type": "code",
   "source": "X.data.columns[selector.get_support()]",
   "id": "66cd34c7bbfa0719",
   "execution_count": 333,
   "outputs": []
  },
  {
   "metadata": {},
   "cell_type": "markdown",
   "source": "# Forward",
   "id": "86aaf4123063e23"
  },
  {
   "metadata": {
    "ExecuteTime": {
     "end_time": "2024-06-01T02:55:00.474832Z",
     "start_time": "2024-06-01T02:55:00.468081Z"
    }
   },
   "cell_type": "code",
   "source": [
    "from sklearn.feature_selection import SequentialFeatureSelector\n",
    "from sklearn.neighbors import KNeighborsClassifier"
   ],
   "id": "9f2535fb85b68d01",
   "execution_count": 334,
   "outputs": []
  },
  {
   "metadata": {
    "ExecuteTime": {
     "end_time": "2024-06-01T02:55:00.694454Z",
     "start_time": "2024-06-01T02:55:00.687655Z"
    }
   },
   "cell_type": "code",
   "source": "clf = KNeighborsClassifier(n_neighbors=3)",
   "id": "3b5c301e68b28b24",
   "execution_count": 335,
   "outputs": []
  },
  {
   "metadata": {
    "ExecuteTime": {
     "end_time": "2024-06-01T02:55:01.411773Z",
     "start_time": "2024-06-01T02:55:01.100375Z"
    }
   },
   "cell_type": "code",
   "source": [
    "selector = SequentialFeatureSelector(clf, n_features_to_select='auto', direction='forward')\n",
    "selector.fit(X.data, X.target)\n",
    "print(selector.get_feature_names_out())"
   ],
   "id": "72b31e9229d46923",
   "execution_count": 336,
   "outputs": []
  },
  {
   "metadata": {},
   "cell_type": "markdown",
   "source": "# Backward",
   "id": "5b8a07cc9fcce1d4"
  },
  {
   "metadata": {
    "ExecuteTime": {
     "end_time": "2024-06-01T02:55:01.796572Z",
     "start_time": "2024-06-01T02:55:01.569560Z"
    }
   },
   "cell_type": "code",
   "source": [
    "selector = SequentialFeatureSelector(clf, n_features_to_select='auto', direction='backward')\n",
    "selector.fit(X.data, X.target)\n",
    "print(selector.get_feature_names_out())"
   ],
   "id": "c09353b02aa0287b",
   "execution_count": 337,
   "outputs": []
  },
  {
   "metadata": {},
   "cell_type": "markdown",
   "source": "# Recursive",
   "id": "ada539e1b112e227"
  },
  {
   "metadata": {
    "ExecuteTime": {
     "end_time": "2024-06-01T02:55:01.929993Z",
     "start_time": "2024-06-01T02:55:01.923302Z"
    }
   },
   "cell_type": "code",
   "source": "from sklearn.feature_selection import RFE",
   "id": "b9ca0c2116f9b1f0",
   "execution_count": 338,
   "outputs": []
  },
  {
   "metadata": {
    "ExecuteTime": {
     "end_time": "2024-06-01T02:55:02.369930Z",
     "start_time": "2024-06-01T02:55:02.365762Z"
    }
   },
   "cell_type": "code",
   "source": "clf = RandomForestClassifier()",
   "id": "36a890a5cbc0e2ca",
   "execution_count": 339,
   "outputs": []
  },
  {
   "metadata": {
    "ExecuteTime": {
     "end_time": "2024-06-01T02:55:02.760292Z",
     "start_time": "2024-06-01T02:55:02.741576Z"
    }
   },
   "cell_type": "code",
   "source": "selector = RFE(clf)",
   "id": "4d78e3ab0308937e",
   "execution_count": 340,
   "outputs": []
  },
  {
   "metadata": {
    "ExecuteTime": {
     "end_time": "2024-06-01T02:55:03.927521Z",
     "start_time": "2024-06-01T02:55:02.857090Z"
    }
   },
   "cell_type": "code",
   "source": "selector.fit(X.data, X.target)",
   "id": "3ea4d933886228d5",
   "execution_count": 341,
   "outputs": []
  },
  {
   "metadata": {
    "ExecuteTime": {
     "end_time": "2024-06-01T02:55:03.966295Z",
     "start_time": "2024-06-01T02:55:03.932689Z"
    }
   },
   "cell_type": "code",
   "source": "selector.get_feature_names_out()",
   "id": "cb3a2df022ce01da",
   "execution_count": 342,
   "outputs": []
  },
  {
   "metadata": {},
   "cell_type": "markdown",
   "source": [
    "# Cross-validation (CV)\n",
    "\n",
    "![](https://scikit-learn.org/stable/_images/grid_search_cross_validation.png)"
   ],
   "id": "8c3376901c79d742"
  },
  {
   "metadata": {
    "ExecuteTime": {
     "end_time": "2024-06-01T02:55:04.069092Z",
     "start_time": "2024-06-01T02:55:04.059984Z"
    }
   },
   "cell_type": "code",
   "source": [
    "from sklearn.feature_selection import RFECV\n",
    "from sklearn.model_selection import StratifiedKFold"
   ],
   "id": "28dbf634767b6acc",
   "execution_count": 343,
   "outputs": []
  },
  {
   "metadata": {
    "ExecuteTime": {
     "end_time": "2024-06-01T02:55:08.579947Z",
     "start_time": "2024-06-01T02:55:04.349534Z"
    }
   },
   "cell_type": "code",
   "source": [
    "clf = RandomForestClassifier()\n",
    "\n",
    "selector = RFECV(clf, cv=StratifiedKFold(5), scoring='accuracy', min_features_to_select=1, n_jobs=2)\n",
    "selector.fit(X.data, X.target)\n",
    "print(selector.get_feature_names_out())"
   ],
   "id": "15f9a96c7f6e77d5",
   "execution_count": 344,
   "outputs": []
  },
  {
   "metadata": {},
   "cell_type": "markdown",
   "source": "# Exhaustive (All combinations)",
   "id": "214d1274a23f26b4"
  },
  {
   "metadata": {
    "ExecuteTime": {
     "end_time": "2024-06-01T02:55:08.588381Z",
     "start_time": "2024-06-01T02:55:08.579947Z"
    }
   },
   "cell_type": "code",
   "source": "from itertools import combinations, chain",
   "id": "d79499cfc1e00001",
   "execution_count": 345,
   "outputs": []
  },
  {
   "metadata": {
    "ExecuteTime": {
     "end_time": "2024-06-01T02:55:08.600630Z",
     "start_time": "2024-06-01T02:55:08.588906Z"
    }
   },
   "cell_type": "code",
   "source": [
    "for i in range(1, 5):\n",
    "    for x in combinations([0, 1, 2, 3], i):\n",
    "        print(x)"
   ],
   "id": "5000d211711574dd",
   "execution_count": 346,
   "outputs": []
  },
  {
   "metadata": {
    "ExecuteTime": {
     "end_time": "2024-06-01T02:55:08.612989Z",
     "start_time": "2024-06-01T02:55:08.600630Z"
    }
   },
   "cell_type": "code",
   "source": [
    "n_features = X.data.shape[1]\n",
    "chain.from_iterable(combinations(range(n_features), i) for i in range(1, 5))"
   ],
   "id": "512b08e936b5a557",
   "execution_count": 347,
   "outputs": []
  },
  {
   "metadata": {
    "ExecuteTime": {
     "end_time": "2024-06-01T02:55:08.622966Z",
     "start_time": "2024-06-01T02:55:08.612989Z"
    }
   },
   "cell_type": "code",
   "source": "from sklearn.model_selection import cross_val_score",
   "id": "d043047c64e04900",
   "execution_count": 348,
   "outputs": []
  },
  {
   "metadata": {
    "ExecuteTime": {
     "end_time": "2024-06-01T02:55:08.636264Z",
     "start_time": "2024-06-01T02:55:08.622966Z"
    }
   },
   "cell_type": "code",
   "source": [
    "def EFS(estimator, X, Y, cv=5, verbose=False):\n",
    "    n_features = X.shape[1]\n",
    "    subsets = chain.from_iterable(combinations(range(n_features), i) for i in range(1, 5))\n",
    "    best_score = -np.inf\n",
    "    best_subset = None\n",
    "    for i, subset in enumerate(subsets):\n",
    "        subset = list(subset)\n",
    "        score = cross_val_score(estimator, X.iloc[:, subset], Y, cv=cv).mean()\n",
    "        if score > best_score:\n",
    "            best_score = score\n",
    "            best_subset = subset\n",
    "        if verbose:\n",
    "            print(i, score, subset)\n",
    "    return X.columns[best_subset]"
   ],
   "id": "537c2ce2921d74f8",
   "execution_count": 349,
   "outputs": []
  },
  {
   "metadata": {
    "ExecuteTime": {
     "end_time": "2024-06-01T02:55:09.440382Z",
     "start_time": "2024-06-01T02:55:08.636264Z"
    }
   },
   "cell_type": "code",
   "source": [
    "clf = KNeighborsClassifier(n_neighbors=3)\n",
    "selected = EFS(clf, X.data, X.target, cv=StratifiedKFold(5), verbose=True)\n",
    "print(selected)"
   ],
   "id": "9c3ba73ba3fb678",
   "execution_count": 350,
   "outputs": []
  },
  {
   "metadata": {},
   "cell_type": "markdown",
   "source": "# Feature Union",
   "id": "1b9229f9ed863800"
  },
  {
   "metadata": {
    "ExecuteTime": {
     "end_time": "2024-06-01T02:55:09.450420Z",
     "start_time": "2024-06-01T02:55:09.442396Z"
    }
   },
   "cell_type": "code",
   "source": [
    "from sklearn.decomposition import PCA, TruncatedSVD\n",
    "from sklearn.pipeline import FeatureUnion, make_union\n",
    "from sklearn.datasets import load_iris"
   ],
   "id": "2f6d79691aa79763",
   "execution_count": 351,
   "outputs": []
  },
  {
   "metadata": {
    "ExecuteTime": {
     "end_time": "2024-06-01T02:55:09.469648Z",
     "start_time": "2024-06-01T02:55:09.452397Z"
    }
   },
   "cell_type": "code",
   "source": "X = load_iris(as_frame=True)",
   "id": "201d35f115bfaa75",
   "execution_count": 352,
   "outputs": []
  },
  {
   "metadata": {
    "ExecuteTime": {
     "end_time": "2024-06-01T02:55:09.484239Z",
     "start_time": "2024-06-01T02:55:09.469648Z"
    }
   },
   "cell_type": "code",
   "source": [
    "union = FeatureUnion([\n",
    "    ('pca', PCA(n_components=2)),\n",
    "    ('svd', TruncatedSVD(n_components=1))\n",
    "])\n",
    "\n",
    "# union = make_union(PCA(n_components=2), TruncatedSVD(n_components=1))"
   ],
   "id": "ea92a3cd9f6bc2c3",
   "execution_count": 353,
   "outputs": []
  },
  {
   "metadata": {
    "ExecuteTime": {
     "end_time": "2024-06-01T02:55:09.505281Z",
     "start_time": "2024-06-01T02:55:09.484239Z"
    }
   },
   "cell_type": "code",
   "source": "union",
   "id": "2ecb74d7bebb211d",
   "execution_count": 354,
   "outputs": []
  },
  {
   "metadata": {
    "ExecuteTime": {
     "end_time": "2024-06-01T02:55:09.524043Z",
     "start_time": "2024-06-01T02:55:09.505281Z"
    }
   },
   "cell_type": "code",
   "source": "union.fit_transform(X['data']).shape",
   "id": "12409da06427d77",
   "execution_count": 355,
   "outputs": []
  },
  {
   "metadata": {
    "ExecuteTime": {
     "end_time": "2024-06-01T02:55:09.556164Z",
     "start_time": "2024-06-01T02:55:09.524043Z"
    }
   },
   "cell_type": "code",
   "source": "union.set_params(pca__n_components=1).fit_transform(X['data']).shape",
   "id": "939c1a415075f798",
   "execution_count": 356,
   "outputs": []
  },
  {
   "metadata": {},
   "cell_type": "markdown",
   "source": "# Pipeline",
   "id": "f9d84488ffe2f118"
  },
  {
   "metadata": {
    "ExecuteTime": {
     "end_time": "2024-06-01T02:55:09.569293Z",
     "start_time": "2024-06-01T02:55:09.556164Z"
    }
   },
   "cell_type": "code",
   "source": "from sklearn.pipeline import Pipeline, make_pipeline",
   "id": "b50c08186b2f2c19",
   "execution_count": 357,
   "outputs": []
  },
  {
   "metadata": {
    "ExecuteTime": {
     "end_time": "2024-06-01T02:55:09.578770Z",
     "start_time": "2024-06-01T02:55:09.569293Z"
    }
   },
   "cell_type": "code",
   "source": [
    "from sklearn.preprocessing import MinMaxScaler\n",
    "from sklearn.svm import SVC"
   ],
   "id": "ee996e0936cbed48",
   "execution_count": 358,
   "outputs": []
  },
  {
   "metadata": {
    "ExecuteTime": {
     "end_time": "2024-06-01T02:55:09.588280Z",
     "start_time": "2024-06-01T02:55:09.578770Z"
    }
   },
   "cell_type": "code",
   "source": [
    "pipe = Pipeline([\n",
    "    ('scaler', MinMaxScaler()),\n",
    "    ('union', union),\n",
    "    ('svc', SVC())\n",
    "])\n",
    "\n",
    "# pipe = make_pipeline(MinMaxScaler(), SVC())"
   ],
   "id": "5d49a59ac1bb640d",
   "execution_count": 359,
   "outputs": []
  },
  {
   "metadata": {
    "ExecuteTime": {
     "end_time": "2024-06-01T02:55:09.627882Z",
     "start_time": "2024-06-01T02:55:09.588280Z"
    }
   },
   "cell_type": "code",
   "source": "pipe",
   "id": "9253dd073f7b6cb3",
   "execution_count": 360,
   "outputs": []
  },
  {
   "metadata": {
    "ExecuteTime": {
     "end_time": "2024-06-01T02:55:09.675302Z",
     "start_time": "2024-06-01T02:55:09.627882Z"
    }
   },
   "cell_type": "code",
   "source": "pipe.fit(X['data'], X['target'])",
   "id": "375c493f7e206272",
   "execution_count": 361,
   "outputs": []
  },
  {
   "metadata": {
    "ExecuteTime": {
     "end_time": "2024-06-01T02:55:09.692883Z",
     "start_time": "2024-06-01T02:55:09.675302Z"
    }
   },
   "cell_type": "code",
   "source": "pipe.predict(X['data'])",
   "id": "90d4f772c812a364",
   "execution_count": 362,
   "outputs": []
  },
  {
   "metadata": {
    "ExecuteTime": {
     "end_time": "2024-06-01T02:55:09.726808Z",
     "start_time": "2024-06-01T02:55:09.692883Z"
    }
   },
   "cell_type": "code",
   "source": "pipe.score(X['data'], X['target'])",
   "id": "1e064b38fab531d3",
   "execution_count": 363,
   "outputs": []
  },
  {
   "metadata": {
    "ExecuteTime": {
     "end_time": "2024-06-01T02:55:09.833854Z",
     "start_time": "2024-06-01T02:55:09.772808Z"
    }
   },
   "cell_type": "code",
   "source": "pipe.set_params(svc__kernel='poly')",
   "id": "c475ca058a6f1718",
   "execution_count": 364,
   "outputs": []
  },
  {
   "metadata": {
    "ExecuteTime": {
     "end_time": "2024-06-01T02:55:09.850645Z",
     "start_time": "2024-06-01T02:55:09.833854Z"
    }
   },
   "cell_type": "code",
   "source": [
    "from sklearn.feature_selection import SelectFromModel\n",
    "from sklearn.ensemble import RandomForestClassifier"
   ],
   "id": "bbc8fa3bc791e9fd",
   "execution_count": 365,
   "outputs": []
  },
  {
   "metadata": {
    "ExecuteTime": {
     "end_time": "2024-06-01T02:55:09.894942Z",
     "start_time": "2024-06-01T02:55:09.869395Z"
    }
   },
   "cell_type": "code",
   "source": [
    "pipe = Pipeline([\n",
    "    ('selector', SelectFromModel(RandomForestClassifier())),\n",
    "    ('scaler', MinMaxScaler()),\n",
    "    ('union', union),\n",
    "    ('svc', SVC())\n",
    "])"
   ],
   "id": "96e5f8174b589184",
   "execution_count": 366,
   "outputs": []
  },
  {
   "metadata": {
    "ExecuteTime": {
     "end_time": "2024-06-01T02:55:09.974133Z",
     "start_time": "2024-06-01T02:55:09.900914Z"
    }
   },
   "cell_type": "code",
   "source": "pipe",
   "id": "9fa610d41dbedc2b",
   "execution_count": 367,
   "outputs": []
  },
  {
   "metadata": {},
   "cell_type": "markdown",
   "source": "# save and load",
   "id": "8adc54cd93480161"
  },
  {
   "metadata": {
    "ExecuteTime": {
     "end_time": "2024-06-01T02:55:10.178286Z",
     "start_time": "2024-06-01T02:55:10.170116Z"
    }
   },
   "cell_type": "code",
   "source": "import joblib",
   "id": "13466f65222b098c",
   "execution_count": 368,
   "outputs": []
  },
  {
   "metadata": {
    "ExecuteTime": {
     "end_time": "2024-06-01T02:55:10.850080Z",
     "start_time": "2024-06-01T02:55:10.836826Z"
    }
   },
   "cell_type": "code",
   "source": "joblib.dump(pipe, 'pipe.joblib')",
   "id": "46cf809d57797dc",
   "execution_count": 369,
   "outputs": []
  },
  {
   "metadata": {
    "ExecuteTime": {
     "end_time": "2024-06-01T02:55:12.923869Z",
     "start_time": "2024-06-01T02:55:12.915615Z"
    }
   },
   "cell_type": "code",
   "source": "pipe = joblib.load('pipe.joblib')",
   "id": "1b311ff93cbfeb3a",
   "execution_count": 370,
   "outputs": []
  },
  {
   "metadata": {
    "ExecuteTime": {
     "end_time": "2024-06-01T02:55:13.583574Z",
     "start_time": "2024-06-01T02:55:13.242189Z"
    }
   },
   "cell_type": "code",
   "source": "pipe.fit(X['data'], X['target'])",
   "id": "edcc4359933bac1d",
   "execution_count": 371,
   "outputs": []
  },
  {
   "metadata": {
    "ExecuteTime": {
     "end_time": "2024-06-01T02:55:13.656850Z",
     "start_time": "2024-06-01T02:55:13.615252Z"
    }
   },
   "cell_type": "code",
   "source": "pipe.predict(X['data'])",
   "id": "2073a8d9666bc13d",
   "execution_count": 372,
   "outputs": []
  },
  {
   "metadata": {
    "ExecuteTime": {
     "end_time": "2024-06-01T02:55:13.941863Z",
     "start_time": "2024-06-01T02:55:13.927769Z"
    }
   },
   "cell_type": "code",
   "source": "",
   "id": "759b5d75788b0a34",
   "execution_count": 372,
   "outputs": []
  }
 ],
 "metadata": {
  "kernelspec": {
   "display_name": "Python 3",
   "language": "python",
   "name": "python3"
  },
  "language_info": {
   "codemirror_mode": {
    "name": "ipython",
    "version": 2
   },
   "file_extension": ".py",
   "mimetype": "text/x-python",
   "name": "python",
   "nbconvert_exporter": "python",
   "pygments_lexer": "ipython2",
   "version": "2.7.6"
  }
 },
 "nbformat": 4,
 "nbformat_minor": 5
}
